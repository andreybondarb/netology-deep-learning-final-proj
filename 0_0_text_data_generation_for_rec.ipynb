{
 "cells": [
  {
   "cell_type": "code",
   "execution_count": 1,
   "metadata": {
    "executionInfo": {
     "elapsed": 1665,
     "status": "ok",
     "timestamp": 1659008890436,
     "user": {
      "displayName": "Андрей Бондарь",
      "userId": "06919916406136291697"
     },
     "user_tz": -180
    },
    "id": "zJKx52KyNk5u"
   },
   "outputs": [],
   "source": [
    "import os\n",
    "import cv2\n",
    "os.chdir('/Users/datanomica/jup_workplace/synth_text_generation')"
   ]
  },
  {
   "cell_type": "code",
   "execution_count": 2,
   "metadata": {
    "executionInfo": {
     "elapsed": 46535,
     "status": "ok",
     "timestamp": 1658997219810,
     "user": {
      "displayName": "Андрей Бондарь",
      "userId": "06919916406136291697"
     },
     "user_tz": -180
    },
    "id": "YEe0wgHmNlDw"
   },
   "outputs": [],
   "source": [
    "import random\n",
    "import numpy as np\n",
    "import regex as re\n",
    "\n",
    "seed = 42\n",
    "random.seed(seed)\n",
    "np.random.seed(seed)\n",
    "\n",
    "rus_words = []\n",
    "with open(\"words_rus.txt\", \"r\", encoding='cp1251') as fo:\n",
    "      for line in fo:\n",
    "        line = re.sub(r'[^А-ЯЁЙа-яёй]', ' ', line)\n",
    "        line = re.sub(r'\\s+', ' ', line).strip()\n",
    "        if line != '':\n",
    "          rus_words.append(line.split(' ')[0])\n",
    "        else:\n",
    "          continue\n",
    "\n",
    "eng_words = []\n",
    "with open(\"words_eng.txt\", \"r\", encoding='utf8') as fo:\n",
    "      for line in fo:\n",
    "        line = re.sub(r'[^A-Za-z]', ' ', line)\n",
    "        line = re.sub(r'\\s+', ' ', line).strip()\n",
    "        if line != '':\n",
    "          eng_words.append(line.split(' ')[0])\n",
    "        else:\n",
    "          continue\n",
    "      \n",
    "random.shuffle(eng_words)\n",
    "random.shuffle(rus_words)"
   ]
  },
  {
   "cell_type": "code",
   "execution_count": 3,
   "metadata": {},
   "outputs": [
    {
     "data": {
      "text/plain": [
       "(['amygdaloidal',\n",
       "  'dropsy',\n",
       "  'instinctually',\n",
       "  'predetect',\n",
       "  'Cykana',\n",
       "  'Jerrold',\n",
       "  'peize',\n",
       "  'Valerianella',\n",
       "  'amusable',\n",
       "  'unswanlike'],\n",
       " ['нагойскою',\n",
       "  'перекорёженной',\n",
       "  'поверившего',\n",
       "  'притоптанной',\n",
       "  'ухтинца',\n",
       "  'пароварке',\n",
       "  'деревопереработкой',\n",
       "  'психрометры',\n",
       "  'вкраплявшимся',\n",
       "  'всемогущественной'])"
      ]
     },
     "execution_count": 3,
     "metadata": {},
     "output_type": "execute_result"
    }
   ],
   "source": [
    "eng_words[0:10], rus_words[0:10]"
   ]
  },
  {
   "cell_type": "code",
   "execution_count": 4,
   "metadata": {
    "colab": {
     "base_uri": "https://localhost:8080/"
    },
    "executionInfo": {
     "elapsed": 23,
     "status": "ok",
     "timestamp": 1658997219813,
     "user": {
      "displayName": "Андрей Бондарь",
      "userId": "06919916406136291697"
     },
     "user_tz": -180
    },
    "id": "ucL8Ud2IiCCP",
    "outputId": "54bdf449-8e26-46d9-f03e-94850a25e027"
   },
   "outputs": [
    {
     "data": {
      "text/plain": [
       "(1532629, 466547)"
      ]
     },
     "execution_count": 4,
     "metadata": {},
     "output_type": "execute_result"
    }
   ],
   "source": [
    "len(rus_words), len(eng_words)"
   ]
  },
  {
   "cell_type": "code",
   "execution_count": 5,
   "metadata": {},
   "outputs": [],
   "source": [
    "eng_chars, rus_chars = ('!\"#$%&\\'()+,-./0123456789:;=?@ABCDEFGHIJKLMNOPQRSTUVWXYZ[]_abcdefghijklmnopqrstuvwxyz«»№',\n",
    " '!\"#$%&\\'()+,-./0123456789:;=?@[]_«»ЁАБВГДЕЖЗИЙКЛМНОПРСТУФХЦЧШЩЪЫЬЭЮЯабвгдежзийклмнопрстуфхцчшщъыьэюяё№')"
   ]
  },
  {
   "cell_type": "code",
   "execution_count": 6,
   "metadata": {},
   "outputs": [
    {
     "data": {
      "text/plain": [
       "('АВвСсЕНнКкМмОоРрТтХхаепгу', 'ABCcEHKkMOoPpTXxaenry')"
      ]
     },
     "execution_count": 6,
     "metadata": {},
     "output_type": "execute_result"
    }
   ],
   "source": [
    "dict_of_same = {'A':'А','B':'Вв','Cc':'Сс','E':'Е',\n",
    "                'H':'Нн','Kk':'Кк','M':'Мм','Oo':'Оо',\n",
    "                'Pp':'Рр','T':'Тт','Xx':'Хх','a':'а','e':'е',\n",
    "                'n':'п','r':'г','y':'у'}\n",
    "\n",
    "russian_same = ''.join(dict_of_same.values())\n",
    "english_same = ''.join(dict_of_same.keys())\n",
    "russian_same,english_same"
   ]
  },
  {
   "cell_type": "code",
   "execution_count": 8,
   "metadata": {},
   "outputs": [],
   "source": [
    "only_end_chars = set(['.',\n",
    " ',',\n",
    " '-',\n",
    " ':',\n",
    " ';',\n",
    " '!',\n",
    " '?',\n",
    " ']',\n",
    " '='])\n",
    "\n",
    "only_start_chars = set(['['])\n",
    "\n",
    "random_characters = [i for i in \".,-:;!?[]/#№$'+@%=\"]\n",
    "\n",
    "probs_for_chars = np.logspace(1, 2.5, len(random_characters))[::-1]\n",
    "\n",
    "\n",
    "def preprocess_word_eng(text):\n",
    "    text = text.lower()\n",
    "\n",
    "    random_number = random.choices([0,1,2], weights=[0.33, 0.33, 0.33], k=1)[0]\n",
    "\n",
    "    if random_number == 0:\n",
    "      text = text.capitalize()\n",
    "    if random_number == 1:\n",
    "      text = text.upper()\n",
    "    if random_number == 2:\n",
    "      pass\n",
    "\n",
    "    return text\n",
    "\n",
    "def preprocess_word_rus(text):\n",
    "    text = text.lower()\n",
    "\n",
    "    random_number = random.choices([0,1,2], weights=[0.33, 0.33, 0.33], k=1)[0]\n",
    "\n",
    "    if random_number == 0:\n",
    "      text = text.capitalize()\n",
    "    if random_number == 1:\n",
    "      text = text.upper()\n",
    "    if random_number == 2:\n",
    "      pass\n",
    "\n",
    "    return text\n",
    "\n",
    "def merge_words(list_of_words):\n",
    "\n",
    "    step_start = 0\n",
    "    step_end = 0\n",
    "    new_ls_words = []\n",
    "\n",
    "    while step_end < len(list_of_words):\n",
    "\n",
    "        random_end_level = random.choices([1,2,3], weights=[0.89, 0.1, 0.01], k=1)[0]\n",
    "\n",
    "        if random_end_level == 3:\n",
    "            random_join = ' '\n",
    "        else: \n",
    "            random_join = random.choices([' ','&','-','_'], weights=[0.3, 0.1, 0.54, 0.06], k=1)[0]\n",
    "\n",
    "        new_w = f'{random_join}'.join(list_of_words[step_start: step_end + random_end_level])\n",
    "        new_ls_words.append(new_w)\n",
    "\n",
    "        step_start = step_end + random_end_level\n",
    "\n",
    "        step_end = step_start\n",
    "        \n",
    "    return new_ls_words\n",
    "\n",
    "def add_random_attributes(text):\n",
    "    \n",
    "    random_number_1 = random.choices([0,1,2], weights=[0.09, 0.11, 0.80], k=1)[0]\n",
    "    \n",
    "    if random_number_1 == 0:\n",
    "    \n",
    "        random_number_2 = random.choices([0,1,2], weights=[0.40, 0.30, 0.30], k=1)[0]\n",
    "        if random_number_2 == 0:\n",
    "            text = random.choices(['«',''])[0] + text + random.choices(['»',''])[0]\n",
    "        if random_number_2 == 1:\n",
    "            text = random.choices(['\"',''])[0] + text + random.choices(['\"',''])[0]\n",
    "        if random_number_2 == 2:\n",
    "            text = random.choices(['(',''])[0] + text + random.choices([')',''])[0]\n",
    "    \n",
    "    if random_number_1 == 1:\n",
    "    \n",
    "        add_symbol = random.choices(random_characters, weights = probs_for_chars, k=1)[0]\n",
    "        \n",
    "        random_position = random.choices([0,1], weights = [0.5,0.5], k=1)[0]\n",
    "        \n",
    "        if random_position == 0:\n",
    "            if add_symbol in only_end_chars:\n",
    "                text =  text + add_symbol  \n",
    "            else:\n",
    "                text = add_symbol + text\n",
    "        if random_position == 1:\n",
    "            if add_symbol in only_start_chars:\n",
    "                text = add_symbol + text\n",
    "            else:\n",
    "                text = text + add_symbol    \n",
    "            \n",
    "    return text"
   ]
  },
  {
   "cell_type": "code",
   "execution_count": 9,
   "metadata": {},
   "outputs": [],
   "source": [
    "additional_eng_words = []\n",
    "for word in eng_words[0:]:\n",
    "    word = preprocess_word_eng(word)\n",
    "    if len(set([i for i in word]) & set([i for i in english_same])) > random.choices([1,2,3,4,5,6])[0]:\n",
    "        additional_eng_words.append(word)\n",
    "    else:\n",
    "        continue"
   ]
  },
  {
   "cell_type": "code",
   "execution_count": 10,
   "metadata": {},
   "outputs": [
    {
     "data": {
      "text/plain": [
       "196220"
      ]
     },
     "execution_count": 10,
     "metadata": {},
     "output_type": "execute_result"
    }
   ],
   "source": [
    "len(additional_eng_words)"
   ]
  },
  {
   "cell_type": "code",
   "execution_count": 11,
   "metadata": {},
   "outputs": [],
   "source": [
    "eng_words = additional_eng_words[0:150000] #eng_words[0:60000]\n",
    "rus_words = rus_words[0:150000]"
   ]
  },
  {
   "cell_type": "code",
   "execution_count": 12,
   "metadata": {},
   "outputs": [
    {
     "data": {
      "text/plain": [
       "(133988, 133787)"
      ]
     },
     "execution_count": 12,
     "metadata": {},
     "output_type": "execute_result"
    }
   ],
   "source": [
    "seed = 42\n",
    "random.seed(seed)\n",
    "np.random.seed(seed)\n",
    "\n",
    "eng_words = [preprocess_word_eng(i) for i in eng_words]\n",
    "rus_words = [preprocess_word_rus(i) for i in rus_words]\n",
    "\n",
    "eng_words = merge_words(eng_words)\n",
    "rus_words = merge_words(rus_words)\n",
    "\n",
    "random.shuffle(eng_words)\n",
    "random.shuffle(rus_words)\n",
    "\n",
    "len(rus_words), len(eng_words)"
   ]
  },
  {
   "cell_type": "code",
   "execution_count": 13,
   "metadata": {},
   "outputs": [],
   "source": [
    "def get_random_number():\n",
    "    \n",
    "    random_level = random.choices([1,2,3,4,5], weights=[0.2, 0.2, 0.2, 0.2, 0.2], k=1)[0]\n",
    "    \n",
    "    if random_level == 1:\n",
    "        final_number = str(random.randint(1,15)) + random.choices(['.','',','])[0]\n",
    "        \n",
    "    if random_level == 2:\n",
    "        final_number = str(random.randint(1,15)) + '.' + str(random.randint(1,40)) + random.choices(['.','',','])[0]\n",
    "    \n",
    "    if random_level == 3:\n",
    "        final_number = str(random.randint(1,15)) + '.' + str(random.randint(1,40)) + '.' + str(random.randint(1,30)) + random.choices(['.','',','])[0]\n",
    "        \n",
    "    if random_level == 4:\n",
    "        final_number = str(random.randint(1,15)) + '.' + str(random.randint(1,40)) + '.' + str(random.randint(1,30)) + '.' + str(random.randint(1,40)) + random.choices(['.','',','])[0]\n",
    "        \n",
    "    if random_level == 5: #random date\n",
    "        final_number = str(random.randint(1,31)) + '.' + str(random.randint(1,12)) + '.' + str(random.randint(1900,2023))\n",
    "        \n",
    "    return final_number"
   ]
  },
  {
   "cell_type": "code",
   "execution_count": 14,
   "metadata": {},
   "outputs": [],
   "source": [
    "def get_arbitrary_rus_word():\n",
    "\n",
    "    len_of_word = random.randint(2,13)\n",
    "\n",
    "    random_word = ''.join([random.choice(rus_chars) for i in range(len_of_word)])\n",
    "    \n",
    "    return random_word\n",
    "\n",
    "def get_arbitrary_eng_word():\n",
    "    \n",
    "    len_of_word = random.randint(2,13)\n",
    "\n",
    "    random_word = ''.join([random.choice(eng_chars) for i in range(len_of_word)])\n",
    "        \n",
    "    return random_word"
   ]
  },
  {
   "cell_type": "code",
   "execution_count": 15,
   "metadata": {},
   "outputs": [
    {
     "data": {
      "text/plain": [
       "'ЪЫ?жмй»'"
      ]
     },
     "execution_count": 15,
     "metadata": {},
     "output_type": "execute_result"
    }
   ],
   "source": [
    "get_arbitrary_rus_word()"
   ]
  },
  {
   "cell_type": "code",
   "execution_count": 16,
   "metadata": {},
   "outputs": [],
   "source": [
    "seed = 42\n",
    "random.seed(seed)\n",
    "np.random.seed(seed)\n",
    "\n",
    "random_nums_1 = [str(i) for i in range(0,2500)]\n",
    "random_nums_2 = [get_random_number() for i in range(0,5000)]\n",
    "random_numbers = random_nums_2 + random_nums_1\n",
    "\n",
    "arbitrary_rus_words = [get_arbitrary_rus_word() for i in range(0,2500)]\n",
    "arbitrary_eng_words = [get_arbitrary_eng_word() for i in range(0,2500)]"
   ]
  },
  {
   "cell_type": "code",
   "execution_count": 17,
   "metadata": {
    "executionInfo": {
     "elapsed": 583,
     "status": "ok",
     "timestamp": 1658997220384,
     "user": {
      "displayName": "Андрей Бондарь",
      "userId": "06919916406136291697"
     },
     "user_tz": -180
    },
    "id": "EFg-bcdrxSuo"
   },
   "outputs": [],
   "source": [
    "seed = 42\n",
    "random.seed(seed)\n",
    "np.random.seed(seed)\n",
    "\n",
    "eng_words = [add_random_attributes(i) for i in eng_words] + [i for i in 'ABCDEFGHIJKLMNOPQRSTUVWXYZabcdefghijklmnopqrstuvwxyz'] * 90 + random_numbers + arbitrary_eng_words\n",
    "rus_words = [add_random_attributes(i) for i in rus_words] + [i for i in '-,.;№123456789'] * 360 + [i for i in 'ЁАБВГДЕЖЗИЙКЛМНОПРСТУФХЦЧШЩЪЫЬЭЮЯабвгдежзийклмнопрстуфхцчшщъыьэюяё'] * 100 + arbitrary_rus_words\n",
    "\n",
    "random.shuffle(eng_words)\n",
    "random.shuffle(rus_words)"
   ]
  },
  {
   "cell_type": "code",
   "execution_count": 18,
   "metadata": {
    "colab": {
     "base_uri": "https://localhost:8080/"
    },
    "executionInfo": {
     "elapsed": 314,
     "status": "ok",
     "timestamp": 1658997639508,
     "user": {
      "displayName": "Андрей Бондарь",
      "userId": "06919916406136291697"
     },
     "user_tz": -180
    },
    "id": "aRzHO6xpjR1K",
    "outputId": "f7a2e7d4-0d1f-4ac6-d38d-a1a630025eda"
   },
   "outputs": [
    {
     "data": {
      "text/plain": [
       "(148467, 148128)"
      ]
     },
     "execution_count": 18,
     "metadata": {},
     "output_type": "execute_result"
    }
   ],
   "source": [
    "len(eng_words), len(rus_words)"
   ]
  },
  {
   "cell_type": "code",
   "execution_count": 19,
   "metadata": {},
   "outputs": [
    {
     "data": {
      "text/plain": [
       "(11.53469296824368, 5.969713038168201, 10.759825415748955, 5.393365279095867)"
      ]
     },
     "execution_count": 19,
     "metadata": {},
     "output_type": "execute_result"
    }
   ],
   "source": [
    "len_eng = []\n",
    "len_rus = []\n",
    "\n",
    "for word in eng_words:\n",
    "    len_eng.append(len(word))\n",
    "for word in rus_words:\n",
    "    len_rus.append(len(word))\n",
    "\n",
    "np.mean(len_rus), np.std(len_rus), np.mean(len_eng), np.std(len_eng)"
   ]
  },
  {
   "cell_type": "code",
   "execution_count": 20,
   "metadata": {
    "colab": {
     "base_uri": "https://localhost:8080/"
    },
    "executionInfo": {
     "elapsed": 4,
     "status": "ok",
     "timestamp": 1658997640813,
     "user": {
      "displayName": "Андрей Бондарь",
      "userId": "06919916406136291697"
     },
     "user_tz": -180
    },
    "id": "88K9BXNUjVOG",
    "outputId": "cf0f175d-4c5c-4133-ce7d-33c9248aa58b"
   },
   "outputs": [
    {
     "data": {
      "text/plain": [
       "(['Amylogens',\n",
       "  'Unplacement',\n",
       "  'folcgemot',\n",
       "  'Worths.',\n",
       "  'INCUBEE',\n",
       "  'Nontyrannous',\n",
       "  'STONEPECKER',\n",
       "  'Heartblood',\n",
       "  '\"phonatory\"',\n",
       "  'napoleonana'],\n",
       " ['цитогенетика',\n",
       "  'Растоплены',\n",
       "  'Обезлиствить',\n",
       "  'онемечивал;',\n",
       "  'ПРИГОТОВЛЯВШЕЙСЯ&жизненнее',\n",
       "  '9',\n",
       "  'превозмочь',\n",
       "  'о',\n",
       "  'заулыбается',\n",
       "  'биополимерам'])"
      ]
     },
     "execution_count": 20,
     "metadata": {},
     "output_type": "execute_result"
    }
   ],
   "source": [
    "eng_words[0:10], rus_words[0:10]"
   ]
  },
  {
   "cell_type": "code",
   "execution_count": 24,
   "metadata": {
    "executionInfo": {
     "elapsed": 3,
     "status": "ok",
     "timestamp": 1658997644314,
     "user": {
      "displayName": "Андрей Бондарь",
      "userId": "06919916406136291697"
     },
     "user_tz": -180
    },
    "id": "9v0axREC8fz-"
   },
   "outputs": [],
   "source": [
    "eng_chars = {}\n",
    "for word in eng_words:\n",
    "  for char in word:\n",
    "    eng_chars[char] = eng_chars.get(char, 0) + 1\n",
    "\n",
    "rus_chars = {}\n",
    "for word in rus_words:\n",
    "  for char in word:\n",
    "    rus_chars[char] = rus_chars.get(char, 0) + 1"
   ]
  },
  {
   "cell_type": "code",
   "execution_count": 25,
   "metadata": {
    "executionInfo": {
     "elapsed": 3,
     "status": "ok",
     "timestamp": 1658997645312,
     "user": {
      "displayName": "Андрей Бондарь",
      "userId": "06919916406136291697"
     },
     "user_tz": -180
    },
    "id": "5Irua5E79gcm"
   },
   "outputs": [],
   "source": [
    "eng_chars_ = ''.join(sorted(eng_chars.keys()))"
   ]
  },
  {
   "cell_type": "code",
   "execution_count": 26,
   "metadata": {
    "executionInfo": {
     "elapsed": 3,
     "status": "ok",
     "timestamp": 1658997645646,
     "user": {
      "displayName": "Андрей Бондарь",
      "userId": "06919916406136291697"
     },
     "user_tz": -180
    },
    "id": "m6yRBbRj9v2s"
   },
   "outputs": [],
   "source": [
    "rus_chars_ = ''.join(sorted(rus_chars.keys()))"
   ]
  },
  {
   "cell_type": "code",
   "execution_count": 27,
   "metadata": {},
   "outputs": [
    {
     "data": {
      "text/plain": [
       "(' !\"#$%&\\'()+,-./0123456789:;=?@ABCDEFGHIJKLMNOPQRSTUVWXYZ[]_abcdefghijklmnopqrstuvwxyz«»№',\n",
       " ' !\"#$%&\\'()+,-./0123456789:;=?@[]_«»ЁАБВГДЕЖЗИЙКЛМНОПРСТУФХЦЧШЩЪЫЬЭЮЯабвгдежзийклмнопрстуфхцчшщъыьэюяё№')"
      ]
     },
     "execution_count": 27,
     "metadata": {},
     "output_type": "execute_result"
    }
   ],
   "source": [
    "eng_chars_, rus_chars_"
   ]
  },
  {
   "cell_type": "code",
   "execution_count": 28,
   "metadata": {},
   "outputs": [],
   "source": [
    "seed = 42\n",
    "random.seed(seed)\n",
    "np.random.seed(seed)\n",
    "\n",
    "eng_and_rus_words = eng_words + rus_words\n",
    "\n",
    "random.shuffle(eng_and_rus_words)"
   ]
  },
  {
   "cell_type": "code",
   "execution_count": 29,
   "metadata": {},
   "outputs": [
    {
     "data": {
      "text/plain": [
       "296595"
      ]
     },
     "execution_count": 29,
     "metadata": {},
     "output_type": "execute_result"
    }
   ],
   "source": [
    "len(eng_and_rus_words)"
   ]
  },
  {
   "cell_type": "code",
   "execution_count": 30,
   "metadata": {},
   "outputs": [
    {
     "data": {
      "text/plain": [
       "['(TOOL',\n",
       " 'Интерпретирую',\n",
       " 'Ч',\n",
       " 'hulsean',\n",
       " 'encaustic',\n",
       " 'unaffectionately',\n",
       " 'antidisestablishmentarian',\n",
       " 'прошнуровываемом',\n",
       " 'ROSELINE',\n",
       " 'WAREHOUSING',\n",
       " 'Откупоривавшеюся',\n",
       " 'Zinjanthropus',\n",
       " 'SEPTEMFOLIATE,',\n",
       " 'jobarbe',\n",
       " 'ZOOMORPHIC',\n",
       " 'локомобильный',\n",
       " 'перенервничавшие',\n",
       " 'втолкованное',\n",
       " 'ВОЗГЛАВИВШИХ',\n",
       " 'жертвующих',\n",
       " 'Hexamer',\n",
       " 'configuration',\n",
       " 'P',\n",
       " 'SUBSTOCK',\n",
       " 'ЗАСЛЫШАТЬ-макрокосму,',\n",
       " 'Спиртною Задраивших]',\n",
       " 'COMPLOTMENT',\n",
       " 'Ноток',\n",
       " 'эритроците',\n",
       " 'THUMB',\n",
       " 'Одухотвориться',\n",
       " 'МАССОЗАГОТОВИТЕЛЬНОЙ',\n",
       " 'Намаравшему',\n",
       " 'BYRONICS',\n",
       " 'ПОДГРУДНОМ',\n",
       " 'исколотившим.',\n",
       " '15.9,',\n",
       " '730',\n",
       " 'припудрившее',\n",
       " 'я=я[Ш-Ч']"
      ]
     },
     "execution_count": 30,
     "metadata": {},
     "output_type": "execute_result"
    }
   ],
   "source": [
    "eng_and_rus_words[0:40]"
   ]
  },
  {
   "cell_type": "code",
   "execution_count": 31,
   "metadata": {
    "executionInfo": {
     "elapsed": 624,
     "status": "ok",
     "timestamp": 1658997772928,
     "user": {
      "displayName": "Андрей Бондарь",
      "userId": "06919916406136291697"
     },
     "user_tz": -180
    },
    "id": "QwaoeuhbzM48"
   },
   "outputs": [],
   "source": [
    "with open(\"NETOLOGY_eng_and_rus_words.txt\", \"w\", encoding='utf8') as fo:\n",
    "    for s in eng_and_rus_words:\n",
    "        fo.write(str(s) + \"\\n\")"
   ]
  },
  {
   "cell_type": "code",
   "execution_count": 33,
   "metadata": {},
   "outputs": [],
   "source": [
    "w_lens = []\n",
    "for w in eng_and_rus_words:\n",
    "    w_lens.append(len(w))"
   ]
  },
  {
   "cell_type": "code",
   "execution_count": 42,
   "metadata": {},
   "outputs": [
    {
     "name": "stderr",
     "output_type": "stream",
     "text": [
      "/opt/anaconda3/lib/python3.8/site-packages/seaborn/distributions.py:2557: FutureWarning: `distplot` is a deprecated function and will be removed in a future version. Please adapt your code to use either `displot` (a figure-level function with similar flexibility) or `histplot` (an axes-level function for histograms).\n",
      "  warnings.warn(msg, FutureWarning)\n"
     ]
    },
    {
     "data": {
      "image/png": "[encoded data removed]",
      "text/plain": [
       "<Figure size 432x288 with 1 Axes>"
      ]
     },
     "metadata": {
      "needs_background": "light"
     },
     "output_type": "display_data"
    }
   ],
   "source": [
    "import seaborn as sns\n",
    "from matplotlib import pyplot as plt\n",
    "sns.distplot(w_lens, bins = 110, kde_kws={'label':'kde of given data'}, label = 'histogram')\n",
    "plt.axvline(np.mean(w_lens), color='r', linestyle='dashed', linewidth=0.6, label = 'mean')\n",
    "plt.title('Длина слов', fontdict = {'fontsize' : 12})\n",
    "plt.axis([0, 50, 0, 0.22])\n",
    "plt.legend(loc = 1, prop={'size': 10})\n",
    "plt.show()"
   ]
  },
  {
   "cell_type": "code",
   "execution_count": null,
   "metadata": {},
   "outputs": [],
   "source": []
  }
 ],
 "metadata": {
  "colab": {
   "authorship_tag": "ABX9TyNmrBBwX4GIVjYQqTwGtygh",
   "collapsed_sections": [],
   "name": "dataset_generation.ipynb",
   "provenance": []
  },
  "kernelspec": {
   "display_name": "Python 3",
   "language": "python",
   "name": "python3"
  },
  "language_info": {
   "codemirror_mode": {
    "name": "ipython",
    "version": 3
   },
   "file_extension": ".py",
   "mimetype": "text/x-python",
   "name": "python",
   "nbconvert_exporter": "python",
   "pygments_lexer": "ipython3",
   "version": "3.8.8"
  }
 },
 "nbformat": 4,
 "nbformat_minor": 1
}
