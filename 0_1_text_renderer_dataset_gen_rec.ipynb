{
 "cells": [
  {
   "cell_type": "code",
   "execution_count": 35,
   "metadata": {
    "executionInfo": {
     "elapsed": 1665,
     "status": "ok",
     "timestamp": 1659008890436,
     "user": {
      "displayName": "Андрей Бондарь",
      "userId": "06919916406136291697"
     },
     "user_tz": -180
    },
    "id": "zJKx52KyNk5u"
   },
   "outputs": [],
   "source": [
    "import os\n",
    "import cv2\n",
    "import regex as re\n",
    "from pathlib import Path\n",
    "import tqdm\n",
    "os.chdir('/Users/jup_workplace/text_renderer')"
   ]
  },
  {
   "cell_type": "code",
   "execution_count": 4,
   "metadata": {
    "colab": {
     "base_uri": "https://localhost:8080/",
     "height": 1000
    },
    "executionInfo": {
     "elapsed": 46618,
     "status": "ok",
     "timestamp": 1658995671399,
     "user": {
      "displayName": "Андрей Бондарь",
      "userId": "06919916406136291697"
     },
     "user_tz": -180
    },
    "id": "Tu-B4n34Ok8a",
    "outputId": "22169cf4-621b-417c-846a-53942f892cc5"
   },
   "outputs": [
    {
     "name": "stdout",
     "output_type": "stream",
     "text": [
      "running develop\n",
      "running egg_info\n",
      "writing text_renderer.egg-info/PKG-INFO\n",
      "writing dependency_links to text_renderer.egg-info/dependency_links.txt\n",
      "writing top-level names to text_renderer.egg-info/top_level.txt\n",
      "reading manifest file 'text_renderer.egg-info/SOURCES.txt'\n",
      "writing manifest file 'text_renderer.egg-info/SOURCES.txt'\n",
      "running build_ext\n",
      "Creating /opt/anaconda3/lib/python3.8/site-packages/text-renderer.egg-link (link to .)\n",
      "Adding text-renderer 0.1.0 to easy-install.pth file\n",
      "\n",
      "Installed /Users/datanomica/jup_workplace/text_renderer\n",
      "Processing dependencies for text-renderer==0.1.0\n",
      "Finished processing dependencies for text-renderer==0.1.0\n",
      "\u001b[33mWARNING: The directory '/Users/datanomica/Library/Caches/pip' or its parent directory is not owned or is not writable by the current user. The cache has been disabled. Check the permissions and owner of that directory. If executing pip with sudo, you may want sudo's -H flag.\u001b[0m\n",
      "Collecting imgaug==0.4.0\n",
      "  Downloading imgaug-0.4.0-py2.py3-none-any.whl (948 kB)\n",
      "\u001b[K     |████████████████████████████████| 948 kB 314 kB/s eta 0:00:01\n",
      "\u001b[?25hCollecting fontTools==4.12.1\n",
      "  Downloading fonttools-4.12.1-py3-none-any.whl (803 kB)\n",
      "\u001b[K     |████████████████████████████████| 803 kB 4.2 MB/s eta 0:00:01\n",
      "\u001b[?25hCollecting lmdb==0.98\n",
      "  Downloading lmdb-0.98.tar.gz (869 kB)\n",
      "\u001b[K     |████████████████████████████████| 869 kB 5.3 MB/s eta 0:00:01\n",
      "\u001b[?25hCollecting pillow==6.2.2\n",
      "  Downloading Pillow-6.2.2-cp38-cp38-macosx_10_9_x86_64.whl (2.1 MB)\n",
      "\u001b[K     |████████████████████████████████| 2.1 MB 18.0 MB/s eta 0:00:01\n",
      "\u001b[?25hRequirement already satisfied: numpy in /opt/anaconda3/lib/python3.8/site-packages (from -r docker/requirements.txt (line 6)) (1.20.1)\n",
      "Collecting tenacity\n",
      "  Downloading tenacity-8.1.0-py3-none-any.whl (23 kB)\n",
      "Collecting fire\n",
      "  Downloading fire-0.4.0.tar.gz (87 kB)\n",
      "\u001b[K     |████████████████████████████████| 87 kB 5.5 MB/s eta 0:00:01\n",
      "\u001b[?25hRequirement already satisfied: tqdm in /opt/anaconda3/lib/python3.8/site-packages (from -r docker/requirements.txt (line 9)) (4.59.0)\n",
      "Collecting loguru\n",
      "  Downloading loguru-0.6.0-py3-none-any.whl (58 kB)\n",
      "\u001b[K     |████████████████████████████████| 58 kB 5.8 MB/s eta 0:00:01\n",
      "\u001b[?25hRequirement already satisfied: cffi in /opt/anaconda3/lib/python3.8/site-packages (from -r docker/requirements.txt (line 11)) (1.14.5)\n",
      "Collecting sphinx==3.1.2\n",
      "  Downloading Sphinx-3.1.2-py3-none-any.whl (2.9 MB)\n",
      "\u001b[K     |████████████████████████████████| 2.9 MB 5.3 MB/s eta 0:00:01\n",
      "\u001b[?25hCollecting sphinx-rtd-theme\n",
      "  Downloading sphinx_rtd_theme-1.0.0-py2.py3-none-any.whl (2.8 MB)\n",
      "\u001b[K     |████████████████████████████████| 2.8 MB 5.7 MB/s eta 0:00:01\n",
      "\u001b[?25hCollecting recommonmark==0.6.0\n",
      "  Downloading recommonmark-0.6.0-py2.py3-none-any.whl (10 kB)\n",
      "Collecting sphinx-markdown-tables\n",
      "  Downloading sphinx_markdown_tables-0.0.17-py3-none-any.whl (28 kB)\n",
      "Collecting dataclasses\n",
      "  Downloading dataclasses-0.6-py3-none-any.whl (14 kB)\n",
      "Requirement already satisfied: pytest in /opt/anaconda3/lib/python3.8/site-packages (from -r docker/requirements.txt (line 17)) (6.2.3)\n",
      "Collecting typer\n",
      "  Downloading typer-0.6.1-py3-none-any.whl (38 kB)\n",
      "Collecting streamlit\n",
      "  Downloading streamlit-1.12.2-py2.py3-none-any.whl (9.1 MB)\n",
      "\u001b[K     |████████████████████████████████| 9.1 MB 5.8 MB/s eta 0:00:01\n",
      "\u001b[?25hRequirement already satisfied: Shapely in /opt/anaconda3/lib/python3.8/site-packages (from imgaug==0.4.0->-r docker/requirements.txt (line 2)) (1.8.4)\n",
      "Requirement already satisfied: imageio in /opt/anaconda3/lib/python3.8/site-packages (from imgaug==0.4.0->-r docker/requirements.txt (line 2)) (2.9.0)\n",
      "Requirement already satisfied: matplotlib in /opt/anaconda3/lib/python3.8/site-packages (from imgaug==0.4.0->-r docker/requirements.txt (line 2)) (3.3.4)\n",
      "Requirement already satisfied: opencv-python in /opt/anaconda3/lib/python3.8/site-packages (from imgaug==0.4.0->-r docker/requirements.txt (line 2)) (4.6.0.66)\n",
      "Requirement already satisfied: scikit-image>=0.14.2 in /opt/anaconda3/lib/python3.8/site-packages (from imgaug==0.4.0->-r docker/requirements.txt (line 2)) (0.18.1)\n",
      "Requirement already satisfied: scipy in /opt/anaconda3/lib/python3.8/site-packages (from imgaug==0.4.0->-r docker/requirements.txt (line 2)) (1.6.2)\n",
      "Requirement already satisfied: six in /opt/anaconda3/lib/python3.8/site-packages (from imgaug==0.4.0->-r docker/requirements.txt (line 2)) (1.15.0)\n",
      "Requirement already satisfied: docutils>=0.11 in /opt/anaconda3/lib/python3.8/site-packages (from recommonmark==0.6.0->-r docker/requirements.txt (line 14)) (0.17)\n",
      "Collecting commonmark>=0.8.1\n",
      "  Downloading commonmark-0.9.1-py2.py3-none-any.whl (51 kB)\n",
      "\u001b[K     |████████████████████████████████| 51 kB 8.0 MB/s eta 0:00:011\n",
      "\u001b[?25hRequirement already satisfied: sphinxcontrib-qthelp in /opt/anaconda3/lib/python3.8/site-packages (from sphinx==3.1.2->-r docker/requirements.txt (line 12)) (1.0.3)\n",
      "Requirement already satisfied: setuptools in /opt/anaconda3/lib/python3.8/site-packages (from sphinx==3.1.2->-r docker/requirements.txt (line 12)) (52.0.0.post20210125)\n",
      "Requirement already satisfied: sphinxcontrib-jsmath in /opt/anaconda3/lib/python3.8/site-packages (from sphinx==3.1.2->-r docker/requirements.txt (line 12)) (1.0.1)\n",
      "Requirement already satisfied: snowballstemmer>=1.1 in /opt/anaconda3/lib/python3.8/site-packages (from sphinx==3.1.2->-r docker/requirements.txt (line 12)) (2.1.0)\n",
      "Requirement already satisfied: sphinxcontrib-applehelp in /opt/anaconda3/lib/python3.8/site-packages (from sphinx==3.1.2->-r docker/requirements.txt (line 12)) (1.0.2)\n",
      "Requirement already satisfied: sphinxcontrib-devhelp in /opt/anaconda3/lib/python3.8/site-packages (from sphinx==3.1.2->-r docker/requirements.txt (line 12)) (1.0.2)\n",
      "Requirement already satisfied: sphinxcontrib-serializinghtml in /opt/anaconda3/lib/python3.8/site-packages (from sphinx==3.1.2->-r docker/requirements.txt (line 12)) (1.1.4)\n",
      "Requirement already satisfied: babel>=1.3 in /opt/anaconda3/lib/python3.8/site-packages (from sphinx==3.1.2->-r docker/requirements.txt (line 12)) (2.9.0)\n",
      "Requirement already satisfied: alabaster<0.8,>=0.7 in /opt/anaconda3/lib/python3.8/site-packages (from sphinx==3.1.2->-r docker/requirements.txt (line 12)) (0.7.12)\n",
      "Requirement already satisfied: imagesize in /opt/anaconda3/lib/python3.8/site-packages (from sphinx==3.1.2->-r docker/requirements.txt (line 12)) (1.2.0)\n",
      "Requirement already satisfied: packaging in /opt/anaconda3/lib/python3.8/site-packages (from sphinx==3.1.2->-r docker/requirements.txt (line 12)) (20.9)\n",
      "Requirement already satisfied: sphinxcontrib-htmlhelp in /opt/anaconda3/lib/python3.8/site-packages (from sphinx==3.1.2->-r docker/requirements.txt (line 12)) (1.0.3)\n",
      "Requirement already satisfied: Jinja2>=2.3 in /opt/anaconda3/lib/python3.8/site-packages (from sphinx==3.1.2->-r docker/requirements.txt (line 12)) (2.11.3)\n",
      "Requirement already satisfied: Pygments>=2.0 in /opt/anaconda3/lib/python3.8/site-packages (from sphinx==3.1.2->-r docker/requirements.txt (line 12)) (2.8.1)\n",
      "Requirement already satisfied: requests>=2.5.0 in /opt/anaconda3/lib/python3.8/site-packages (from sphinx==3.1.2->-r docker/requirements.txt (line 12)) (2.25.1)\n",
      "Requirement already satisfied: pytz>=2015.7 in /opt/anaconda3/lib/python3.8/site-packages (from babel>=1.3->sphinx==3.1.2->-r docker/requirements.txt (line 12)) (2021.1)\n",
      "Requirement already satisfied: MarkupSafe>=0.23 in /opt/anaconda3/lib/python3.8/site-packages (from Jinja2>=2.3->sphinx==3.1.2->-r docker/requirements.txt (line 12)) (1.1.1)\n",
      "Requirement already satisfied: idna<3,>=2.5 in /opt/anaconda3/lib/python3.8/site-packages (from requests>=2.5.0->sphinx==3.1.2->-r docker/requirements.txt (line 12)) (2.10)\n",
      "Requirement already satisfied: certifi>=2017.4.17 in /opt/anaconda3/lib/python3.8/site-packages (from requests>=2.5.0->sphinx==3.1.2->-r docker/requirements.txt (line 12)) (2020.12.5)\n",
      "Requirement already satisfied: urllib3<1.27,>=1.21.1 in /opt/anaconda3/lib/python3.8/site-packages (from requests>=2.5.0->sphinx==3.1.2->-r docker/requirements.txt (line 12)) (1.26.4)\n",
      "Requirement already satisfied: chardet<5,>=3.0.2 in /opt/anaconda3/lib/python3.8/site-packages (from requests>=2.5.0->sphinx==3.1.2->-r docker/requirements.txt (line 12)) (4.0.0)\n",
      "Requirement already satisfied: networkx>=2.0 in /opt/anaconda3/lib/python3.8/site-packages (from scikit-image>=0.14.2->imgaug==0.4.0->-r docker/requirements.txt (line 2)) (2.5)\n",
      "Requirement already satisfied: tifffile>=2019.7.26 in /opt/anaconda3/lib/python3.8/site-packages (from scikit-image>=0.14.2->imgaug==0.4.0->-r docker/requirements.txt (line 2)) (2020.10.1)\n",
      "Requirement already satisfied: PyWavelets>=1.1.1 in /opt/anaconda3/lib/python3.8/site-packages (from scikit-image>=0.14.2->imgaug==0.4.0->-r docker/requirements.txt (line 2)) (1.1.1)\n",
      "Requirement already satisfied: python-dateutil>=2.1 in /opt/anaconda3/lib/python3.8/site-packages (from matplotlib->imgaug==0.4.0->-r docker/requirements.txt (line 2)) (2.8.1)\n",
      "Requirement already satisfied: kiwisolver>=1.0.1 in /opt/anaconda3/lib/python3.8/site-packages (from matplotlib->imgaug==0.4.0->-r docker/requirements.txt (line 2)) (1.3.1)\n",
      "Requirement already satisfied: pyparsing!=2.0.4,!=2.1.2,!=2.1.6,>=2.0.3 in /opt/anaconda3/lib/python3.8/site-packages (from matplotlib->imgaug==0.4.0->-r docker/requirements.txt (line 2)) (2.4.7)\n"
     ]
    },
    {
     "name": "stdout",
     "output_type": "stream",
     "text": [
      "Requirement already satisfied: cycler>=0.10 in /opt/anaconda3/lib/python3.8/site-packages (from matplotlib->imgaug==0.4.0->-r docker/requirements.txt (line 2)) (0.10.0)\n",
      "Requirement already satisfied: decorator>=4.3.0 in /opt/anaconda3/lib/python3.8/site-packages (from networkx>=2.0->scikit-image>=0.14.2->imgaug==0.4.0->-r docker/requirements.txt (line 2)) (5.0.6)\n",
      "Requirement already satisfied: pycparser in /opt/anaconda3/lib/python3.8/site-packages (from cffi->-r docker/requirements.txt (line 11)) (2.20)\n",
      "Requirement already satisfied: termcolor in /opt/anaconda3/lib/python3.8/site-packages (from fire->-r docker/requirements.txt (line 8)) (1.1.0)\n",
      "Requirement already satisfied: attrs>=19.2.0 in /opt/anaconda3/lib/python3.8/site-packages (from pytest->-r docker/requirements.txt (line 17)) (20.3.0)\n",
      "Requirement already satisfied: iniconfig in /opt/anaconda3/lib/python3.8/site-packages (from pytest->-r docker/requirements.txt (line 17)) (1.1.1)\n",
      "Requirement already satisfied: pluggy<1.0.0a1,>=0.12 in /opt/anaconda3/lib/python3.8/site-packages (from pytest->-r docker/requirements.txt (line 17)) (0.13.1)\n",
      "Requirement already satisfied: py>=1.8.2 in /opt/anaconda3/lib/python3.8/site-packages (from pytest->-r docker/requirements.txt (line 17)) (1.10.0)\n",
      "Requirement already satisfied: toml in /opt/anaconda3/lib/python3.8/site-packages (from pytest->-r docker/requirements.txt (line 17)) (0.10.2)\n",
      "Requirement already satisfied: markdown>=3.4 in /opt/anaconda3/lib/python3.8/site-packages (from sphinx-markdown-tables->-r docker/requirements.txt (line 15)) (3.4.1)\n",
      "Requirement already satisfied: importlib-metadata>=4.4 in /opt/anaconda3/lib/python3.8/site-packages (from markdown>=3.4->sphinx-markdown-tables->-r docker/requirements.txt (line 15)) (4.12.0)\n",
      "Requirement already satisfied: zipp>=0.5 in /opt/anaconda3/lib/python3.8/site-packages (from importlib-metadata>=4.4->markdown>=3.4->sphinx-markdown-tables->-r docker/requirements.txt (line 15)) (3.4.1)\n",
      "Requirement already satisfied: pandas>=0.21.0 in /opt/anaconda3/lib/python3.8/site-packages (from streamlit->-r docker/requirements.txt (line 19)) (1.2.4)\n",
      "Requirement already satisfied: tornado>=5.0 in /opt/anaconda3/lib/python3.8/site-packages (from streamlit->-r docker/requirements.txt (line 19)) (6.1)\n",
      "Requirement already satisfied: protobuf<4,>=3.12 in /opt/anaconda3/lib/python3.8/site-packages (from streamlit->-r docker/requirements.txt (line 19)) (3.19.4)\n",
      "Requirement already satisfied: click>=7.0 in /opt/anaconda3/lib/python3.8/site-packages (from streamlit->-r docker/requirements.txt (line 19)) (7.1.2)\n",
      "Collecting rich>=10.11.0\n",
      "  Downloading rich-12.5.1-py3-none-any.whl (235 kB)\n",
      "\u001b[K     |████████████████████████████████| 235 kB 6.4 MB/s eta 0:00:01\n",
      "\u001b[?25hCollecting blinker>=1.0.0\n",
      "  Downloading blinker-1.5-py2.py3-none-any.whl (12 kB)\n",
      "Collecting semver\n",
      "  Downloading semver-2.13.0-py2.py3-none-any.whl (12 kB)\n",
      "Collecting validators>=0.2\n",
      "  Downloading validators-0.20.0.tar.gz (30 kB)\n",
      "Requirement already satisfied: cachetools>=4.0 in /opt/anaconda3/lib/python3.8/site-packages (from streamlit->-r docker/requirements.txt (line 19)) (5.2.0)\n",
      "Collecting pympler>=0.9\n",
      "  Downloading Pympler-1.0.1-py3-none-any.whl (164 kB)\n",
      "\u001b[K     |████████████████████████████████| 164 kB 6.2 MB/s eta 0:00:01\n",
      "\u001b[?25hCollecting pydeck>=0.1.dev5\n",
      "  Downloading pydeck-0.8.0b3-py2.py3-none-any.whl (4.7 MB)\n",
      "\u001b[K     |████████████████████████████████| 4.7 MB 263 kB/s eta 0:00:01\n",
      "\u001b[?25hCollecting gitpython!=3.1.19\n",
      "  Downloading GitPython-3.1.27-py3-none-any.whl (181 kB)\n",
      "\u001b[K     |████████████████████████████████| 181 kB 4.5 MB/s eta 0:00:01\n",
      "\u001b[?25hCollecting typing-extensions>=3.10.0.0\n",
      "  Downloading typing_extensions-4.3.0-py3-none-any.whl (25 kB)\n",
      "Collecting pyarrow>=4.0\n",
      "  Downloading pyarrow-9.0.0-cp38-cp38-macosx_10_13_x86_64.whl (24.0 MB)\n",
      "\u001b[K     |████████████████████████████████| 24.0 MB 7.4 MB/s eta 0:00:01\n",
      "\u001b[?25hCollecting tzlocal>=1.1\n",
      "  Downloading tzlocal-4.2-py3-none-any.whl (19 kB)\n",
      "Collecting altair>=3.2.0\n",
      "  Downloading altair-4.2.0-py3-none-any.whl (812 kB)\n",
      "\u001b[K     |████████████████████████████████| 812 kB 13.2 MB/s eta 0:00:01\n",
      "\u001b[?25hRequirement already satisfied: entrypoints in /opt/anaconda3/lib/python3.8/site-packages (from altair>=3.2.0->streamlit->-r docker/requirements.txt (line 19)) (0.3)\n",
      "Requirement already satisfied: jsonschema>=3.0 in /opt/anaconda3/lib/python3.8/site-packages (from altair>=3.2.0->streamlit->-r docker/requirements.txt (line 19)) (3.2.0)\n",
      "Requirement already satisfied: toolz in /opt/anaconda3/lib/python3.8/site-packages (from altair>=3.2.0->streamlit->-r docker/requirements.txt (line 19)) (0.11.1)\n",
      "Collecting gitdb<5,>=4.0.1\n",
      "  Downloading gitdb-4.0.9-py3-none-any.whl (63 kB)\n",
      "\u001b[K     |████████████████████████████████| 63 kB 16.5 MB/s eta 0:00:01\n",
      "\u001b[?25hCollecting smmap<6,>=3.0.1\n",
      "  Downloading smmap-5.0.0-py3-none-any.whl (24 kB)\n",
      "Requirement already satisfied: pyrsistent>=0.14.0 in /opt/anaconda3/lib/python3.8/site-packages (from jsonschema>=3.0->altair>=3.2.0->streamlit->-r docker/requirements.txt (line 19)) (0.17.3)\n",
      "Collecting pytz-deprecation-shim\n",
      "  Downloading pytz_deprecation_shim-0.1.0.post0-py2.py3-none-any.whl (15 kB)\n",
      "Collecting backports.zoneinfo\n",
      "  Downloading backports.zoneinfo-0.2.1-cp38-cp38-macosx_10_14_x86_64.whl (35 kB)\n",
      "Collecting tzdata\n",
      "  Downloading tzdata-2022.2-py2.py3-none-any.whl (336 kB)\n",
      "\u001b[K     |████████████████████████████████| 336 kB 30.5 MB/s eta 0:00:01\n",
      "\u001b[?25hBuilding wheels for collected packages: lmdb, fire, validators\n",
      "  Building wheel for lmdb (setup.py) ... \u001b[?25ldone\n",
      "\u001b[?25h  Created wheel for lmdb: filename=lmdb-0.98-cp38-cp38-macosx_10_9_x86_64.whl size=98169 sha256=1af2f0b78e7fd707109347d73f304a0b000edab3aadc9cdf6c7533875f32fd14\n",
      "  Stored in directory: /private/tmp/pip-ephem-wheel-cache-avs7ka2_/wheels/f3/2a/7f/48049ae692fce03f173a8751185e20c8a449ca0fe8195d7bc7\n",
      "  Building wheel for fire (setup.py) ... \u001b[?25ldone\n",
      "\u001b[?25h  Created wheel for fire: filename=fire-0.4.0-py2.py3-none-any.whl size=115928 sha256=80b74e8bb3f3b84229f52859d5e0d63fae21c03d804a80a346144cf79dd91848\n",
      "  Stored in directory: /private/tmp/pip-ephem-wheel-cache-avs7ka2_/wheels/1f/10/06/2a990ee4d73a8479fe2922445e8a876d38cfbfed052284c6a1\n",
      "  Building wheel for validators (setup.py) ... \u001b[?25ldone\n",
      "\u001b[?25h  Created wheel for validators: filename=validators-0.20.0-py3-none-any.whl size=19567 sha256=d42054de78c3a2e15eb1f7c0f742193f0757acffd79c75b6ce49374db5e47fb1\n",
      "  Stored in directory: /private/tmp/pip-ephem-wheel-cache-avs7ka2_/wheels/19/09/72/3eb74d236bb48bd0f3c6c3c83e4e0c5bbfcbcad7c6c3539db8\n",
      "Successfully built lmdb fire validators\n",
      "Installing collected packages: tzdata, smmap, pillow, backports.zoneinfo, typing-extensions, pytz-deprecation-shim, gitdb, commonmark, validators, tzlocal, sphinx, semver, rich, pympler, pydeck, pyarrow, gitpython, blinker, altair, typer, tenacity, streamlit, sphinx-rtd-theme, sphinx-markdown-tables, recommonmark, loguru, lmdb, imgaug, fontTools, fire, dataclasses\n",
      "  Attempting uninstall: pillow\n",
      "    Found existing installation: Pillow 8.2.0\n",
      "    Uninstalling Pillow-8.2.0:\n",
      "      Successfully uninstalled Pillow-8.2.0\n",
      "  Attempting uninstall: typing-extensions\n",
      "    Found existing installation: typing-extensions 3.7.4.3\n",
      "    Uninstalling typing-extensions-3.7.4.3:\n",
      "      Successfully uninstalled typing-extensions-3.7.4.3\n",
      "  Attempting uninstall: sphinx\n",
      "    Found existing installation: Sphinx 4.0.1\n",
      "    Uninstalling Sphinx-4.0.1:\n",
      "      Successfully uninstalled Sphinx-4.0.1\n",
      "\u001b[31mERROR: pip's dependency resolver does not currently take into account all the packages that are installed. This behaviour is the source of the following dependency conflicts.\n",
      "spyder 4.2.5 requires pyqt5<5.13, which is not installed.\n",
      "spyder 4.2.5 requires pyqtwebengine<5.13, which is not installed.\n",
      "bokeh 2.3.2 requires pillow>=7.1.0, but you have pillow 6.2.2 which is incompatible.\u001b[0m\n",
      "Successfully installed altair-4.2.0 backports.zoneinfo-0.2.1 blinker-1.5 commonmark-0.9.1 dataclasses-0.6 fire-0.4.0 fontTools-4.12.1 gitdb-4.0.9 gitpython-3.1.27 imgaug-0.4.0 lmdb-0.98 loguru-0.6.0 pillow-6.2.2 pyarrow-9.0.0 pydeck-0.8.0b3 pympler-1.0.1 pytz-deprecation-shim-0.1.0.post0 recommonmark-0.6.0 rich-12.5.1 semver-2.13.0 smmap-5.0.0 sphinx-3.1.2 sphinx-markdown-tables-0.0.17 sphinx-rtd-theme-1.0.0 streamlit-1.12.2 tenacity-8.1.0 typer-0.6.1 typing-extensions-4.3.0 tzdata-2022.2 tzlocal-4.2 validators-0.20.0\n"
     ]
    }
   ],
   "source": [
    "!python3 setup.py develop\n",
    "!pip3 install -r docker/requirements.txt"
   ]
  },
  {
   "cell_type": "code",
   "execution_count": 43,
   "metadata": {
    "colab": {
     "base_uri": "https://localhost:8080/"
    },
    "executionInfo": {
     "elapsed": 1126337,
     "status": "ok",
     "timestamp": 1658998988397,
     "user": {
      "displayName": "Андрей Бондарь",
      "userId": "06919916406136291697"
     },
     "user_tz": -180
    },
    "id": "K9rhgRV3OnJl",
    "outputId": "daf6cf25-b34b-4023-f847-c6f0bbc8dd14"
   },
   "outputs": [
    {
     "name": "stdout",
     "output_type": "stream",
     "text": [
      "\u001b[32m2023-01-30 10:55:34.297\u001b[0m | \u001b[1mINFO    \u001b[0m | \u001b[36mtext_renderer.font_manager\u001b[0m:\u001b[36mupdate_font_support_chars\u001b[0m:\u001b[36m115\u001b[0m - \u001b[1mRemove 1 empty char mask from font [/Users/datanomica/jup_workplace/text_renderer/example_data_2/font/Luminari.ttf]: ['-']\u001b[0m\n",
      "\u001b[32m2023-01-30 10:55:34.434\u001b[0m | \u001b[1mINFO    \u001b[0m | \u001b[36mtext_renderer.font_manager\u001b[0m:\u001b[36mupdate_font_support_chars\u001b[0m:\u001b[36m115\u001b[0m - \u001b[1mRemove 2 empty char mask from font [/Users/datanomica/jup_workplace/text_renderer/example_data_2/font/Songti.ttc]: ['»', '«']\u001b[0m\n",
      "\u001b[32m2023-01-30 10:55:34.617\u001b[0m | \u001b[1mINFO    \u001b[0m | \u001b[36mtext_renderer.utils.utils\u001b[0m:\u001b[36mload_chars_file\u001b[0m:\u001b[36m162\u001b[0m - \u001b[1mFind space in line 153 when load /Users/datanomica/jup_workplace/text_renderer/example_data_2/char/rus_chars.txt\u001b[0m\n",
      "\u001b[32m2023-01-30 10:55:34.617\u001b[0m | \u001b[1mINFO    \u001b[0m | \u001b[36mtext_renderer.utils.utils\u001b[0m:\u001b[36mload_chars_file\u001b[0m:\u001b[36m172\u001b[0m - \u001b[1mload 153 chars from: /Users/datanomica/jup_workplace/text_renderer/example_data_2/char/rus_chars.txt\u001b[0m\n",
      "\u001b[32m2023-01-30 10:55:34.617\u001b[0m | \u001b[1mINFO    \u001b[0m | \u001b[36mtext_renderer.corpus.corpus\u001b[0m:\u001b[36mfilter_by_chars\u001b[0m:\u001b[36m126\u001b[0m - \u001b[1mfiltering text by chars...\u001b[0m\n",
      "\u001b[32m2023-01-30 10:55:34.998\u001b[0m | \u001b[1mINFO    \u001b[0m | \u001b[36mtext_renderer.corpus.corpus\u001b[0m:\u001b[36mfilter_by_chars\u001b[0m:\u001b[36m154\u001b[0m - \u001b[1mFilter 0.06%(2062) chars in input text。Unique chars(1): {'_'}\u001b[0m\n",
      "\u001b[32m2023-01-30 10:55:35.976\u001b[0m | \u001b[1mINFO    \u001b[0m | \u001b[36m__mp_main__\u001b[0m:\u001b[36mrun\u001b[0m:\u001b[36m44\u001b[0m - \u001b[1mExist image count in /Users/datanomica/jup_workplace/text_renderer/example_data_2/output/enum_data_rus: 0\u001b[0m\n",
      "\u001b[32m2023-01-30 10:55:36.997\u001b[0m | \u001b[1mINFO    \u001b[0m | \u001b[36m__mp_main__\u001b[0m:\u001b[36mprocess_setup\u001b[0m:\u001b[36m82\u001b[0m - \u001b[1mFinish setup image generate process: 1905\u001b[0m\n",
      "\u001b[32m2023-01-30 10:55:37.970\u001b[0m | \u001b[1mINFO    \u001b[0m | \u001b[36m__mp_main__\u001b[0m:\u001b[36mprocess_setup\u001b[0m:\u001b[36m82\u001b[0m - \u001b[1mFinish setup image generate process: 1907\u001b[0m\n",
      "\u001b[32m2023-01-30 10:55:38.952\u001b[0m | \u001b[1mINFO    \u001b[0m | \u001b[36m__mp_main__\u001b[0m:\u001b[36mprocess_setup\u001b[0m:\u001b[36m82\u001b[0m - \u001b[1mFinish setup image generate process: 1908\u001b[0m\n",
      "\u001b[32m2023-01-30 10:55:39.925\u001b[0m | \u001b[1mINFO    \u001b[0m | \u001b[36m__mp_main__\u001b[0m:\u001b[36mprocess_setup\u001b[0m:\u001b[36m82\u001b[0m - \u001b[1mFinish setup image generate process: 1909\u001b[0m\n",
      "\u001b[32m2023-01-30 10:55:40.907\u001b[0m | \u001b[1mINFO    \u001b[0m | \u001b[36m__mp_main__\u001b[0m:\u001b[36mprocess_setup\u001b[0m:\u001b[36m82\u001b[0m - \u001b[1mFinish setup image generate process: 1911\u001b[0m\n",
      "\u001b[32m2023-01-30 10:55:41.885\u001b[0m | \u001b[1mINFO    \u001b[0m | \u001b[36m__mp_main__\u001b[0m:\u001b[36mprocess_setup\u001b[0m:\u001b[36m82\u001b[0m - \u001b[1mFinish setup image generate process: 1912\u001b[0m\n",
      "\u001b[32m2023-01-30 10:55:42.864\u001b[0m | \u001b[1mINFO    \u001b[0m | \u001b[36m__mp_main__\u001b[0m:\u001b[36mprocess_setup\u001b[0m:\u001b[36m82\u001b[0m - \u001b[1mFinish setup image generate process: 1914\u001b[0m\n",
      "\u001b[32m2023-01-30 10:55:43.841\u001b[0m | \u001b[1mINFO    \u001b[0m | \u001b[36m__mp_main__\u001b[0m:\u001b[36mprocess_setup\u001b[0m:\u001b[36m82\u001b[0m - \u001b[1mFinish setup image generate process: 1916\u001b[0m\n",
      "\u001b[32m2023-01-30 10:55:44.288\u001b[0m | \u001b[34m\u001b[1mDEBUG   \u001b[0m | \u001b[36mtext_renderer.corpus.corpus\u001b[0m:\u001b[36msample\u001b[0m:\u001b[36m95\u001b[0m - \u001b[34m\u001b[1mEnumCorpus /Users/datanomica/jup_workplace/text_renderer/example_data_2/font/Luminari.ttf not support chars: {'-'}\u001b[0m\n",
      "\u001b[32m2023-01-30 10:55:44.727\u001b[0m | \u001b[34m\u001b[1mDEBUG   \u001b[0m | \u001b[36mtext_renderer.corpus.corpus\u001b[0m:\u001b[36msample\u001b[0m:\u001b[36m95\u001b[0m - \u001b[34m\u001b[1mEnumCorpus /Users/datanomica/jup_workplace/text_renderer/example_data_2/font/Luminari.ttf not support chars: {'-'}\u001b[0m\n",
      "\u001b[32m2023-01-30 10:55:45.700\u001b[0m | \u001b[34m\u001b[1mDEBUG   \u001b[0m | \u001b[36mtext_renderer.corpus.corpus\u001b[0m:\u001b[36msample\u001b[0m:\u001b[36m95\u001b[0m - \u001b[34m\u001b[1mEnumCorpus /Users/datanomica/jup_workplace/text_renderer/example_data_2/font/Luminari.ttf not support chars: {'-'}\u001b[0m\n",
      "\u001b[32m2023-01-30 10:55:46.402\u001b[0m | \u001b[34m\u001b[1mDEBUG   \u001b[0m | \u001b[36mtext_renderer.corpus.corpus\u001b[0m:\u001b[36msample\u001b[0m:\u001b[36m95\u001b[0m - \u001b[34m\u001b[1mEnumCorpus /Users/datanomica/jup_workplace/text_renderer/example_data_2/font/Savoye LET.ttc not support chars: {'№'}\u001b[0m\n",
      "\u001b[32m2023-01-30 10:55:46.809\u001b[0m | \u001b[34m\u001b[1mDEBUG   \u001b[0m | \u001b[36mtext_renderer.corpus.corpus\u001b[0m:\u001b[36msample\u001b[0m:\u001b[36m95\u001b[0m - \u001b[34m\u001b[1mEnumCorpus /Users/datanomica/jup_workplace/text_renderer/example_data_2/font/Copperplate.ttc not support chars: {'№'}\u001b[0m\n",
      "\u001b[32m2023-01-30 10:55:48.599\u001b[0m | \u001b[34m\u001b[1mDEBUG   \u001b[0m | \u001b[36mtext_renderer.corpus.corpus\u001b[0m:\u001b[36msample\u001b[0m:\u001b[36m95\u001b[0m - \u001b[34m\u001b[1mEnumCorpus /Users/datanomica/jup_workplace/text_renderer/example_data_2/font/DIN Alternate Bold.ttf not support chars: {'№'}\u001b[0m\n",
      "\u001b[32m2023-01-30 10:55:52.335\u001b[0m | \u001b[34m\u001b[1mDEBUG   \u001b[0m | \u001b[36mtext_renderer.corpus.corpus\u001b[0m:\u001b[36msample\u001b[0m:\u001b[36m95\u001b[0m - \u001b[34m\u001b[1mEnumCorpus /Users/datanomica/jup_workplace/text_renderer/example_data_2/font/Hoefler Text.ttc not support chars: {'№'}\u001b[0m\n",
      "\u001b[32m2023-01-30 10:55:53.583\u001b[0m | \u001b[34m\u001b[1mDEBUG   \u001b[0m | \u001b[36mtext_renderer.corpus.corpus\u001b[0m:\u001b[36msample\u001b[0m:\u001b[36m95\u001b[0m - \u001b[34m\u001b[1mEnumCorpus /Users/datanomica/jup_workplace/text_renderer/example_data_2/font/Hoefler Text.ttc not support chars: {'№'}\u001b[0m\n",
      "\u001b[32m2023-01-30 10:55:54.260\u001b[0m | \u001b[34m\u001b[1mDEBUG   \u001b[0m | \u001b[36mtext_renderer.corpus.corpus\u001b[0m:\u001b[36msample\u001b[0m:\u001b[36m95\u001b[0m - \u001b[34m\u001b[1mEnumCorpus /Users/datanomica/jup_workplace/text_renderer/example_data_2/font/Luminari.ttf not support chars: {'-'}\u001b[0m\n",
      "\u001b[32m2023-01-30 10:55:54.736\u001b[0m | \u001b[34m\u001b[1mDEBUG   \u001b[0m | \u001b[36mtext_renderer.corpus.corpus\u001b[0m:\u001b[36msample\u001b[0m:\u001b[36m95\u001b[0m - \u001b[34m\u001b[1mEnumCorpus /Users/datanomica/jup_workplace/text_renderer/example_data_2/font/Luminari.ttf not support chars: {'-'}\u001b[0m\n",
      "\u001b[32m2023-01-30 10:55:55.956\u001b[0m | \u001b[34m\u001b[1mDEBUG   \u001b[0m | \u001b[36mtext_renderer.corpus.corpus\u001b[0m:\u001b[36msample\u001b[0m:\u001b[36m95\u001b[0m - \u001b[34m\u001b[1mEnumCorpus /Users/datanomica/jup_workplace/text_renderer/example_data_2/font/Luminari.ttf not support chars: {'-'}\u001b[0m\n",
      "\u001b[32m2023-01-30 10:55:56.725\u001b[0m | \u001b[34m\u001b[1mDEBUG   \u001b[0m | \u001b[36mtext_renderer.corpus.corpus\u001b[0m:\u001b[36msample\u001b[0m:\u001b[36m95\u001b[0m - \u001b[34m\u001b[1mEnumCorpus /Users/datanomica/jup_workplace/text_renderer/example_data_2/font/Luminari.ttf not support chars: {'-'}\u001b[0m\n",
      "\u001b[32m2023-01-30 10:55:57.154\u001b[0m | \u001b[1mINFO    \u001b[0m | \u001b[36m__mp_main__\u001b[0m:\u001b[36mrun\u001b[0m:\u001b[36m56\u001b[0m - \u001b[1m10.00%(12000/120000) 566.6 img/s\u001b[0m\n",
      "\u001b[32m2023-01-30 10:55:58.719\u001b[0m | \u001b[34m\u001b[1mDEBUG   \u001b[0m | \u001b[36mtext_renderer.corpus.corpus\u001b[0m:\u001b[36msample\u001b[0m:\u001b[36m95\u001b[0m - \u001b[34m\u001b[1mEnumCorpus /Users/datanomica/jup_workplace/text_renderer/example_data_2/font/Luminari.ttf not support chars: {'-'}\u001b[0m\n",
      "\u001b[32m2023-01-30 10:55:59.971\u001b[0m | \u001b[34m\u001b[1mDEBUG   \u001b[0m | \u001b[36mtext_renderer.corpus.corpus\u001b[0m:\u001b[36msample\u001b[0m:\u001b[36m95\u001b[0m - \u001b[34m\u001b[1mEnumCorpus /Users/datanomica/jup_workplace/text_renderer/example_data_2/font/Charter.ttc not support chars: {'№'}\u001b[0m\n",
      "\u001b[32m2023-01-30 10:56:01.372\u001b[0m | \u001b[34m\u001b[1mDEBUG   \u001b[0m | \u001b[36mtext_renderer.corpus.corpus\u001b[0m:\u001b[36msample\u001b[0m:\u001b[36m95\u001b[0m - \u001b[34m\u001b[1mEnumCorpus /Users/datanomica/jup_workplace/text_renderer/example_data_2/font/Luminari.ttf not support chars: {'-'}\u001b[0m\n",
      "\u001b[32m2023-01-30 10:56:02.276\u001b[0m | \u001b[34m\u001b[1mDEBUG   \u001b[0m | \u001b[36mtext_renderer.corpus.corpus\u001b[0m:\u001b[36msample\u001b[0m:\u001b[36m95\u001b[0m - \u001b[34m\u001b[1mEnumCorpus /Users/datanomica/jup_workplace/text_renderer/example_data_2/font/Luminari.ttf not support chars: {'-'}\u001b[0m\n",
      "\u001b[32m2023-01-30 10:56:05.664\u001b[0m | \u001b[34m\u001b[1mDEBUG   \u001b[0m | \u001b[36mtext_renderer.corpus.corpus\u001b[0m:\u001b[36msample\u001b[0m:\u001b[36m95\u001b[0m - \u001b[34m\u001b[1mEnumCorpus /Users/datanomica/jup_workplace/text_renderer/example_data_2/font/Luminari.ttf not support chars: {'-'}\u001b[0m\n",
      "\u001b[32m2023-01-30 10:56:05.936\u001b[0m | \u001b[34m\u001b[1mDEBUG   \u001b[0m | \u001b[36mtext_renderer.corpus.corpus\u001b[0m:\u001b[36msample\u001b[0m:\u001b[36m95\u001b[0m - \u001b[34m\u001b[1mEnumCorpus /Users/datanomica/jup_workplace/text_renderer/example_data_2/font/Songti.ttc not support chars: {'«', '»'}\u001b[0m\n",
      "\u001b[32m2023-01-30 10:56:06.704\u001b[0m | \u001b[34m\u001b[1mDEBUG   \u001b[0m | \u001b[36mtext_renderer.corpus.corpus\u001b[0m:\u001b[36msample\u001b[0m:\u001b[36m95\u001b[0m - \u001b[34m\u001b[1mEnumCorpus /Users/datanomica/jup_workplace/text_renderer/example_data_2/font/Charter.ttc not support chars: {'№'}\u001b[0m\n",
      "\u001b[32m2023-01-30 10:56:07.693\u001b[0m | \u001b[34m\u001b[1mDEBUG   \u001b[0m | \u001b[36mtext_renderer.corpus.corpus\u001b[0m:\u001b[36msample\u001b[0m:\u001b[36m95\u001b[0m - \u001b[34m\u001b[1mEnumCorpus /Users/datanomica/jup_workplace/text_renderer/example_data_2/font/Luminari.ttf not support chars: {'-'}\u001b[0m\n",
      "\u001b[32m2023-01-30 10:56:07.901\u001b[0m | \u001b[34m\u001b[1mDEBUG   \u001b[0m | \u001b[36mtext_renderer.corpus.corpus\u001b[0m:\u001b[36msample\u001b[0m:\u001b[36m95\u001b[0m - \u001b[34m\u001b[1mEnumCorpus /Users/datanomica/jup_workplace/text_renderer/example_data_2/font/Luminari.ttf not support chars: {'-'}\u001b[0m\n",
      "\u001b[32m2023-01-30 10:56:07.902\u001b[0m | \u001b[34m\u001b[1mDEBUG   \u001b[0m | \u001b[36mtext_renderer.corpus.corpus\u001b[0m:\u001b[36msample\u001b[0m:\u001b[36m95\u001b[0m - \u001b[34m\u001b[1mEnumCorpus /Users/datanomica/jup_workplace/text_renderer/example_data_2/font/Songti.ttc not support chars: {'»'}\u001b[0m\n"
     ]
    },
    {
     "name": "stdout",
     "output_type": "stream",
     "text": [
      "\u001b[32m2023-01-30 10:56:08.764\u001b[0m | \u001b[34m\u001b[1mDEBUG   \u001b[0m | \u001b[36mtext_renderer.corpus.corpus\u001b[0m:\u001b[36msample\u001b[0m:\u001b[36m95\u001b[0m - \u001b[34m\u001b[1mEnumCorpus /Users/datanomica/jup_workplace/text_renderer/example_data_2/font/Luminari.ttf not support chars: {'-'}\u001b[0m\n",
      "\u001b[32m2023-01-30 10:56:09.734\u001b[0m | \u001b[34m\u001b[1mDEBUG   \u001b[0m | \u001b[36mtext_renderer.corpus.corpus\u001b[0m:\u001b[36msample\u001b[0m:\u001b[36m95\u001b[0m - \u001b[34m\u001b[1mEnumCorpus /Users/datanomica/jup_workplace/text_renderer/example_data_2/font/Songti.ttc not support chars: {'«'}\u001b[0m\n",
      "\u001b[32m2023-01-30 10:56:09.792\u001b[0m | \u001b[34m\u001b[1mDEBUG   \u001b[0m | \u001b[36mtext_renderer.corpus.corpus\u001b[0m:\u001b[36msample\u001b[0m:\u001b[36m95\u001b[0m - \u001b[34m\u001b[1mEnumCorpus /Users/datanomica/jup_workplace/text_renderer/example_data_2/font/Songti.ttc not support chars: {'»'}\u001b[0m\n",
      "\u001b[32m2023-01-30 10:56:09.825\u001b[0m | \u001b[34m\u001b[1mDEBUG   \u001b[0m | \u001b[36mtext_renderer.corpus.corpus\u001b[0m:\u001b[36msample\u001b[0m:\u001b[36m95\u001b[0m - \u001b[34m\u001b[1mEnumCorpus /Users/datanomica/jup_workplace/text_renderer/example_data_2/font/Luminari.ttf not support chars: {'-'}\u001b[0m\n",
      "\u001b[32m2023-01-30 10:56:10.477\u001b[0m | \u001b[1mINFO    \u001b[0m | \u001b[36m__mp_main__\u001b[0m:\u001b[36mrun\u001b[0m:\u001b[36m56\u001b[0m - \u001b[1m20.00%(24000/120000) 900.8 img/s\u001b[0m\n",
      "\u001b[32m2023-01-30 10:56:10.877\u001b[0m | \u001b[34m\u001b[1mDEBUG   \u001b[0m | \u001b[36mtext_renderer.corpus.corpus\u001b[0m:\u001b[36msample\u001b[0m:\u001b[36m95\u001b[0m - \u001b[34m\u001b[1mEnumCorpus /Users/datanomica/jup_workplace/text_renderer/example_data_2/font/Luminari.ttf not support chars: {'-'}\u001b[0m\n",
      "\u001b[32m2023-01-30 10:56:11.460\u001b[0m | \u001b[34m\u001b[1mDEBUG   \u001b[0m | \u001b[36mtext_renderer.corpus.corpus\u001b[0m:\u001b[36msample\u001b[0m:\u001b[36m95\u001b[0m - \u001b[34m\u001b[1mEnumCorpus /Users/datanomica/jup_workplace/text_renderer/example_data_2/font/Luminari.ttf not support chars: {'-'}\u001b[0m\n",
      "\u001b[32m2023-01-30 10:56:12.464\u001b[0m | \u001b[34m\u001b[1mDEBUG   \u001b[0m | \u001b[36mtext_renderer.corpus.corpus\u001b[0m:\u001b[36msample\u001b[0m:\u001b[36m95\u001b[0m - \u001b[34m\u001b[1mEnumCorpus /Users/datanomica/jup_workplace/text_renderer/example_data_2/font/Luminari.ttf not support chars: {'-'}\u001b[0m\n",
      "\u001b[32m2023-01-30 10:56:12.664\u001b[0m | \u001b[34m\u001b[1mDEBUG   \u001b[0m | \u001b[36mtext_renderer.corpus.corpus\u001b[0m:\u001b[36msample\u001b[0m:\u001b[36m95\u001b[0m - \u001b[34m\u001b[1mEnumCorpus /Users/datanomica/jup_workplace/text_renderer/example_data_2/font/Luminari.ttf not support chars: {'-'}\u001b[0m\n",
      "\u001b[32m2023-01-30 10:56:12.911\u001b[0m | \u001b[34m\u001b[1mDEBUG   \u001b[0m | \u001b[36mtext_renderer.corpus.corpus\u001b[0m:\u001b[36msample\u001b[0m:\u001b[36m95\u001b[0m - \u001b[34m\u001b[1mEnumCorpus /Users/datanomica/jup_workplace/text_renderer/example_data_2/font/Songti.ttc not support chars: {'«'}\u001b[0m\n",
      "\u001b[32m2023-01-30 10:56:12.976\u001b[0m | \u001b[34m\u001b[1mDEBUG   \u001b[0m | \u001b[36mtext_renderer.corpus.corpus\u001b[0m:\u001b[36msample\u001b[0m:\u001b[36m95\u001b[0m - \u001b[34m\u001b[1mEnumCorpus /Users/datanomica/jup_workplace/text_renderer/example_data_2/font/Songti.ttc not support chars: {'«'}\u001b[0m\n",
      "\u001b[32m2023-01-30 10:56:14.098\u001b[0m | \u001b[34m\u001b[1mDEBUG   \u001b[0m | \u001b[36mtext_renderer.corpus.corpus\u001b[0m:\u001b[36msample\u001b[0m:\u001b[36m95\u001b[0m - \u001b[34m\u001b[1mEnumCorpus /Users/datanomica/jup_workplace/text_renderer/example_data_2/font/Luminari.ttf not support chars: {'-'}\u001b[0m\n",
      "\u001b[32m2023-01-30 10:56:15.752\u001b[0m | \u001b[34m\u001b[1mDEBUG   \u001b[0m | \u001b[36mtext_renderer.corpus.corpus\u001b[0m:\u001b[36msample\u001b[0m:\u001b[36m95\u001b[0m - \u001b[34m\u001b[1mEnumCorpus /Users/datanomica/jup_workplace/text_renderer/example_data_2/font/Songti.ttc not support chars: {'«'}\u001b[0m\n",
      "\u001b[32m2023-01-30 10:56:15.846\u001b[0m | \u001b[34m\u001b[1mDEBUG   \u001b[0m | \u001b[36mtext_renderer.corpus.corpus\u001b[0m:\u001b[36msample\u001b[0m:\u001b[36m95\u001b[0m - \u001b[34m\u001b[1mEnumCorpus /Users/datanomica/jup_workplace/text_renderer/example_data_2/font/Luminari.ttf not support chars: {'-'}\u001b[0m\n",
      "\u001b[32m2023-01-30 10:56:16.834\u001b[0m | \u001b[34m\u001b[1mDEBUG   \u001b[0m | \u001b[36mtext_renderer.corpus.corpus\u001b[0m:\u001b[36msample\u001b[0m:\u001b[36m95\u001b[0m - \u001b[34m\u001b[1mEnumCorpus /Users/datanomica/jup_workplace/text_renderer/example_data_2/font/Sathu.ttf not support chars: {'№'}\u001b[0m\n",
      "\u001b[32m2023-01-30 10:56:17.798\u001b[0m | \u001b[34m\u001b[1mDEBUG   \u001b[0m | \u001b[36mtext_renderer.corpus.corpus\u001b[0m:\u001b[36msample\u001b[0m:\u001b[36m95\u001b[0m - \u001b[34m\u001b[1mEnumCorpus /Users/datanomica/jup_workplace/text_renderer/example_data_2/font/SnellRoundhand.ttc not support chars: {'№'}\u001b[0m\n",
      "\u001b[32m2023-01-30 10:56:19.574\u001b[0m | \u001b[34m\u001b[1mDEBUG   \u001b[0m | \u001b[36mtext_renderer.corpus.corpus\u001b[0m:\u001b[36msample\u001b[0m:\u001b[36m95\u001b[0m - \u001b[34m\u001b[1mEnumCorpus /Users/datanomica/jup_workplace/text_renderer/example_data_2/font/Luminari.ttf not support chars: {'-'}\u001b[0m\n",
      "\u001b[32m2023-01-30 10:56:20.476\u001b[0m | \u001b[34m\u001b[1mDEBUG   \u001b[0m | \u001b[36mtext_renderer.corpus.corpus\u001b[0m:\u001b[36msample\u001b[0m:\u001b[36m95\u001b[0m - \u001b[34m\u001b[1mEnumCorpus /Users/datanomica/jup_workplace/text_renderer/example_data_2/font/Luminari.ttf not support chars: {'-'}\u001b[0m\n",
      "\u001b[32m2023-01-30 10:56:20.709\u001b[0m | \u001b[34m\u001b[1mDEBUG   \u001b[0m | \u001b[36mtext_renderer.corpus.corpus\u001b[0m:\u001b[36msample\u001b[0m:\u001b[36m95\u001b[0m - \u001b[34m\u001b[1mEnumCorpus /Users/datanomica/jup_workplace/text_renderer/example_data_2/font/Luminari.ttf not support chars: {'-'}\u001b[0m\n",
      "\u001b[32m2023-01-30 10:56:20.759\u001b[0m | \u001b[34m\u001b[1mDEBUG   \u001b[0m | \u001b[36mtext_renderer.corpus.corpus\u001b[0m:\u001b[36msample\u001b[0m:\u001b[36m95\u001b[0m - \u001b[34m\u001b[1mEnumCorpus /Users/datanomica/jup_workplace/text_renderer/example_data_2/font/Luminari.ttf not support chars: {'-'}\u001b[0m\n",
      "\u001b[32m2023-01-30 10:56:21.588\u001b[0m | \u001b[34m\u001b[1mDEBUG   \u001b[0m | \u001b[36mtext_renderer.corpus.corpus\u001b[0m:\u001b[36msample\u001b[0m:\u001b[36m95\u001b[0m - \u001b[34m\u001b[1mEnumCorpus /Users/datanomica/jup_workplace/text_renderer/example_data_2/font/Luminari.ttf not support chars: {'-'}\u001b[0m\n",
      "\u001b[32m2023-01-30 10:56:22.431\u001b[0m | \u001b[34m\u001b[1mDEBUG   \u001b[0m | \u001b[36mtext_renderer.corpus.corpus\u001b[0m:\u001b[36msample\u001b[0m:\u001b[36m95\u001b[0m - \u001b[34m\u001b[1mEnumCorpus /Users/datanomica/jup_workplace/text_renderer/example_data_2/font/Songti.ttc not support chars: {'«'}\u001b[0m\n",
      "\u001b[32m2023-01-30 10:56:22.498\u001b[0m | \u001b[34m\u001b[1mDEBUG   \u001b[0m | \u001b[36mtext_renderer.corpus.corpus\u001b[0m:\u001b[36msample\u001b[0m:\u001b[36m95\u001b[0m - \u001b[34m\u001b[1mEnumCorpus /Users/datanomica/jup_workplace/text_renderer/example_data_2/font/DIN Alternate Bold.ttf not support chars: {'№'}\u001b[0m\n",
      "\u001b[32m2023-01-30 10:56:22.867\u001b[0m | \u001b[34m\u001b[1mDEBUG   \u001b[0m | \u001b[36mtext_renderer.corpus.corpus\u001b[0m:\u001b[36msample\u001b[0m:\u001b[36m95\u001b[0m - \u001b[34m\u001b[1mEnumCorpus /Users/datanomica/jup_workplace/text_renderer/example_data_2/font/DIN Alternate Bold.ttf not support chars: {'№'}\u001b[0m\n",
      "\u001b[32m2023-01-30 10:56:23.480\u001b[0m | \u001b[34m\u001b[1mDEBUG   \u001b[0m | \u001b[36mtext_renderer.corpus.corpus\u001b[0m:\u001b[36msample\u001b[0m:\u001b[36m95\u001b[0m - \u001b[34m\u001b[1mEnumCorpus /Users/datanomica/jup_workplace/text_renderer/example_data_2/font/Songti.ttc not support chars: {'«', '»'}\u001b[0m\n",
      "\u001b[32m2023-01-30 10:56:23.637\u001b[0m | \u001b[34m\u001b[1mDEBUG   \u001b[0m | \u001b[36mtext_renderer.corpus.corpus\u001b[0m:\u001b[36msample\u001b[0m:\u001b[36m95\u001b[0m - \u001b[34m\u001b[1mEnumCorpus /Users/datanomica/jup_workplace/text_renderer/example_data_2/font/Luminari.ttf not support chars: {'-'}\u001b[0m\n",
      "\u001b[32m2023-01-30 10:56:23.797\u001b[0m | \u001b[1mINFO    \u001b[0m | \u001b[36m__mp_main__\u001b[0m:\u001b[36mrun\u001b[0m:\u001b[36m56\u001b[0m - \u001b[1m30.00%(36000/120000) 900.9 img/s\u001b[0m\n",
      "\u001b[32m2023-01-30 10:56:25.140\u001b[0m | \u001b[34m\u001b[1mDEBUG   \u001b[0m | \u001b[36mtext_renderer.corpus.corpus\u001b[0m:\u001b[36msample\u001b[0m:\u001b[36m95\u001b[0m - \u001b[34m\u001b[1mEnumCorpus /Users/datanomica/jup_workplace/text_renderer/example_data_2/font/Luminari.ttf not support chars: {'-'}\u001b[0m\n",
      "\u001b[32m2023-01-30 10:56:25.911\u001b[0m | \u001b[34m\u001b[1mDEBUG   \u001b[0m | \u001b[36mtext_renderer.corpus.corpus\u001b[0m:\u001b[36msample\u001b[0m:\u001b[36m95\u001b[0m - \u001b[34m\u001b[1mEnumCorpus /Users/datanomica/jup_workplace/text_renderer/example_data_2/font/Luminari.ttf not support chars: {'-'}\u001b[0m\n",
      "\u001b[32m2023-01-30 10:56:26.935\u001b[0m | \u001b[34m\u001b[1mDEBUG   \u001b[0m | \u001b[36mtext_renderer.corpus.corpus\u001b[0m:\u001b[36msample\u001b[0m:\u001b[36m95\u001b[0m - \u001b[34m\u001b[1mEnumCorpus /Users/datanomica/jup_workplace/text_renderer/example_data_2/font/Luminari.ttf not support chars: {'-'}\u001b[0m\n",
      "\u001b[32m2023-01-30 10:56:26.953\u001b[0m | \u001b[34m\u001b[1mDEBUG   \u001b[0m | \u001b[36mtext_renderer.corpus.corpus\u001b[0m:\u001b[36msample\u001b[0m:\u001b[36m95\u001b[0m - \u001b[34m\u001b[1mEnumCorpus /Users/datanomica/jup_workplace/text_renderer/example_data_2/font/DIN Alternate Bold.ttf not support chars: {'№'}\u001b[0m\n",
      "\u001b[32m2023-01-30 10:56:27.406\u001b[0m | \u001b[34m\u001b[1mDEBUG   \u001b[0m | \u001b[36mtext_renderer.corpus.corpus\u001b[0m:\u001b[36msample\u001b[0m:\u001b[36m95\u001b[0m - \u001b[34m\u001b[1mEnumCorpus /Users/datanomica/jup_workplace/text_renderer/example_data_2/font/Songti.ttc not support chars: {'»'}\u001b[0m\n",
      "\u001b[32m2023-01-30 10:56:27.421\u001b[0m | \u001b[34m\u001b[1mDEBUG   \u001b[0m | \u001b[36mtext_renderer.corpus.corpus\u001b[0m:\u001b[36msample\u001b[0m:\u001b[36m95\u001b[0m - \u001b[34m\u001b[1mEnumCorpus /Users/datanomica/jup_workplace/text_renderer/example_data_2/font/Sathu.ttf not support chars: {'№'}\u001b[0m\n",
      "\u001b[32m2023-01-30 10:56:28.324\u001b[0m | \u001b[34m\u001b[1mDEBUG   \u001b[0m | \u001b[36mtext_renderer.corpus.corpus\u001b[0m:\u001b[36msample\u001b[0m:\u001b[36m95\u001b[0m - \u001b[34m\u001b[1mEnumCorpus /Users/datanomica/jup_workplace/text_renderer/example_data_2/font/SnellRoundhand.ttc not support chars: {'№'}\u001b[0m\n"
     ]
    },
    {
     "name": "stdout",
     "output_type": "stream",
     "text": [
      "\u001b[32m2023-01-30 10:56:29.470\u001b[0m | \u001b[34m\u001b[1mDEBUG   \u001b[0m | \u001b[36mtext_renderer.corpus.corpus\u001b[0m:\u001b[36msample\u001b[0m:\u001b[36m95\u001b[0m - \u001b[34m\u001b[1mEnumCorpus /Users/datanomica/jup_workplace/text_renderer/example_data_2/font/Songti.ttc not support chars: {'«'}\u001b[0m\n",
      "\u001b[32m2023-01-30 10:56:30.844\u001b[0m | \u001b[34m\u001b[1mDEBUG   \u001b[0m | \u001b[36mtext_renderer.corpus.corpus\u001b[0m:\u001b[36msample\u001b[0m:\u001b[36m95\u001b[0m - \u001b[34m\u001b[1mEnumCorpus /Users/datanomica/jup_workplace/text_renderer/example_data_2/font/Copperplate.ttc not support chars: {'№'}\u001b[0m\n",
      "\u001b[32m2023-01-30 10:56:31.227\u001b[0m | \u001b[34m\u001b[1mDEBUG   \u001b[0m | \u001b[36mtext_renderer.corpus.corpus\u001b[0m:\u001b[36msample\u001b[0m:\u001b[36m95\u001b[0m - \u001b[34m\u001b[1mEnumCorpus /Users/datanomica/jup_workplace/text_renderer/example_data_2/font/SnellRoundhand.ttc not support chars: {'№'}\u001b[0m\n",
      "\u001b[32m2023-01-30 10:56:32.111\u001b[0m | \u001b[34m\u001b[1mDEBUG   \u001b[0m | \u001b[36mtext_renderer.corpus.corpus\u001b[0m:\u001b[36msample\u001b[0m:\u001b[36m95\u001b[0m - \u001b[34m\u001b[1mEnumCorpus /Users/datanomica/jup_workplace/text_renderer/example_data_2/font/Luminari.ttf not support chars: {'-'}\u001b[0m\n",
      "\u001b[32m2023-01-30 10:56:32.701\u001b[0m | \u001b[34m\u001b[1mDEBUG   \u001b[0m | \u001b[36mtext_renderer.corpus.corpus\u001b[0m:\u001b[36msample\u001b[0m:\u001b[36m95\u001b[0m - \u001b[34m\u001b[1mEnumCorpus /Users/datanomica/jup_workplace/text_renderer/example_data_2/font/Luminari.ttf not support chars: {'-'}\u001b[0m\n",
      "\u001b[32m2023-01-30 10:56:32.872\u001b[0m | \u001b[34m\u001b[1mDEBUG   \u001b[0m | \u001b[36mtext_renderer.corpus.corpus\u001b[0m:\u001b[36msample\u001b[0m:\u001b[36m95\u001b[0m - \u001b[34m\u001b[1mEnumCorpus /Users/datanomica/jup_workplace/text_renderer/example_data_2/font/Luminari.ttf not support chars: {'-'}\u001b[0m\n",
      "\u001b[32m2023-01-30 10:56:34.740\u001b[0m | \u001b[34m\u001b[1mDEBUG   \u001b[0m | \u001b[36mtext_renderer.corpus.corpus\u001b[0m:\u001b[36msample\u001b[0m:\u001b[36m95\u001b[0m - \u001b[34m\u001b[1mEnumCorpus /Users/datanomica/jup_workplace/text_renderer/example_data_2/font/Sathu.ttf not support chars: {'№'}\u001b[0m\n",
      "\u001b[32m2023-01-30 10:56:34.968\u001b[0m | \u001b[34m\u001b[1mDEBUG   \u001b[0m | \u001b[36mtext_renderer.corpus.corpus\u001b[0m:\u001b[36msample\u001b[0m:\u001b[36m95\u001b[0m - \u001b[34m\u001b[1mEnumCorpus /Users/datanomica/jup_workplace/text_renderer/example_data_2/font/Luminari.ttf not support chars: {'-'}\u001b[0m\n",
      "\u001b[32m2023-01-30 10:56:36.903\u001b[0m | \u001b[34m\u001b[1mDEBUG   \u001b[0m | \u001b[36mtext_renderer.corpus.corpus\u001b[0m:\u001b[36msample\u001b[0m:\u001b[36m95\u001b[0m - \u001b[34m\u001b[1mEnumCorpus /Users/datanomica/jup_workplace/text_renderer/example_data_2/font/Luminari.ttf not support chars: {'-'}\u001b[0m\n",
      "\u001b[32m2023-01-30 10:56:36.925\u001b[0m | \u001b[1mINFO    \u001b[0m | \u001b[36m__mp_main__\u001b[0m:\u001b[36mrun\u001b[0m:\u001b[36m56\u001b[0m - \u001b[1m40.00%(48000/120000) 914.1 img/s\u001b[0m\n",
      "\u001b[32m2023-01-30 10:56:37.144\u001b[0m | \u001b[34m\u001b[1mDEBUG   \u001b[0m | \u001b[36mtext_renderer.corpus.corpus\u001b[0m:\u001b[36msample\u001b[0m:\u001b[36m95\u001b[0m - \u001b[34m\u001b[1mEnumCorpus /Users/datanomica/jup_workplace/text_renderer/example_data_2/font/Luminari.ttf not support chars: {'-'}\u001b[0m\n",
      "\u001b[32m2023-01-30 10:56:37.193\u001b[0m | \u001b[34m\u001b[1mDEBUG   \u001b[0m | \u001b[36mtext_renderer.corpus.corpus\u001b[0m:\u001b[36msample\u001b[0m:\u001b[36m95\u001b[0m - \u001b[34m\u001b[1mEnumCorpus /Users/datanomica/jup_workplace/text_renderer/example_data_2/font/Luminari.ttf not support chars: {'-'}\u001b[0m\n",
      "\u001b[32m2023-01-30 10:56:37.899\u001b[0m | \u001b[34m\u001b[1mDEBUG   \u001b[0m | \u001b[36mtext_renderer.corpus.corpus\u001b[0m:\u001b[36msample\u001b[0m:\u001b[36m95\u001b[0m - \u001b[34m\u001b[1mEnumCorpus /Users/datanomica/jup_workplace/text_renderer/example_data_2/font/Copperplate.ttc not support chars: {'№'}\u001b[0m\n",
      "\u001b[32m2023-01-30 10:56:37.974\u001b[0m | \u001b[34m\u001b[1mDEBUG   \u001b[0m | \u001b[36mtext_renderer.corpus.corpus\u001b[0m:\u001b[36msample\u001b[0m:\u001b[36m95\u001b[0m - \u001b[34m\u001b[1mEnumCorpus /Users/datanomica/jup_workplace/text_renderer/example_data_2/font/Songti.ttc not support chars: {'»', '«'}\u001b[0m\n",
      "\u001b[32m2023-01-30 10:56:38.129\u001b[0m | \u001b[34m\u001b[1mDEBUG   \u001b[0m | \u001b[36mtext_renderer.corpus.corpus\u001b[0m:\u001b[36msample\u001b[0m:\u001b[36m95\u001b[0m - \u001b[34m\u001b[1mEnumCorpus /Users/datanomica/jup_workplace/text_renderer/example_data_2/font/Luminari.ttf not support chars: {'-'}\u001b[0m\n",
      "\u001b[32m2023-01-30 10:56:38.355\u001b[0m | \u001b[34m\u001b[1mDEBUG   \u001b[0m | \u001b[36mtext_renderer.corpus.corpus\u001b[0m:\u001b[36msample\u001b[0m:\u001b[36m95\u001b[0m - \u001b[34m\u001b[1mEnumCorpus /Users/datanomica/jup_workplace/text_renderer/example_data_2/font/Luminari.ttf not support chars: {'-'}\u001b[0m\n",
      "\u001b[32m2023-01-30 10:56:39.407\u001b[0m | \u001b[34m\u001b[1mDEBUG   \u001b[0m | \u001b[36mtext_renderer.corpus.corpus\u001b[0m:\u001b[36msample\u001b[0m:\u001b[36m95\u001b[0m - \u001b[34m\u001b[1mEnumCorpus /Users/datanomica/jup_workplace/text_renderer/example_data_2/font/Songti.ttc not support chars: {'»'}\u001b[0m\n",
      "\u001b[32m2023-01-30 10:56:39.727\u001b[0m | \u001b[34m\u001b[1mDEBUG   \u001b[0m | \u001b[36mtext_renderer.corpus.corpus\u001b[0m:\u001b[36msample\u001b[0m:\u001b[36m95\u001b[0m - \u001b[34m\u001b[1mEnumCorpus /Users/datanomica/jup_workplace/text_renderer/example_data_2/font/Songti.ttc not support chars: {'»'}\u001b[0m\n",
      "\u001b[32m2023-01-30 10:56:40.114\u001b[0m | \u001b[34m\u001b[1mDEBUG   \u001b[0m | \u001b[36mtext_renderer.corpus.corpus\u001b[0m:\u001b[36msample\u001b[0m:\u001b[36m95\u001b[0m - \u001b[34m\u001b[1mEnumCorpus /Users/datanomica/jup_workplace/text_renderer/example_data_2/font/Songti.ttc not support chars: {'«'}\u001b[0m\n",
      "\u001b[32m2023-01-30 10:56:40.580\u001b[0m | \u001b[34m\u001b[1mDEBUG   \u001b[0m | \u001b[36mtext_renderer.corpus.corpus\u001b[0m:\u001b[36msample\u001b[0m:\u001b[36m95\u001b[0m - \u001b[34m\u001b[1mEnumCorpus /Users/datanomica/jup_workplace/text_renderer/example_data_2/font/Luminari.ttf not support chars: {'-'}\u001b[0m\n",
      "\u001b[32m2023-01-30 10:56:40.881\u001b[0m | \u001b[34m\u001b[1mDEBUG   \u001b[0m | \u001b[36mtext_renderer.corpus.corpus\u001b[0m:\u001b[36msample\u001b[0m:\u001b[36m95\u001b[0m - \u001b[34m\u001b[1mEnumCorpus /Users/datanomica/jup_workplace/text_renderer/example_data_2/font/DIN Alternate Bold.ttf not support chars: {'№'}\u001b[0m\n",
      "\u001b[32m2023-01-30 10:56:40.883\u001b[0m | \u001b[34m\u001b[1mDEBUG   \u001b[0m | \u001b[36mtext_renderer.corpus.corpus\u001b[0m:\u001b[36msample\u001b[0m:\u001b[36m95\u001b[0m - \u001b[34m\u001b[1mEnumCorpus /Users/datanomica/jup_workplace/text_renderer/example_data_2/font/Luminari.ttf not support chars: {'-'}\u001b[0m\n",
      "\u001b[32m2023-01-30 10:56:45.002\u001b[0m | \u001b[34m\u001b[1mDEBUG   \u001b[0m | \u001b[36mtext_renderer.corpus.corpus\u001b[0m:\u001b[36msample\u001b[0m:\u001b[36m95\u001b[0m - \u001b[34m\u001b[1mEnumCorpus /Users/datanomica/jup_workplace/text_renderer/example_data_2/font/Luminari.ttf not support chars: {'-'}\u001b[0m\n",
      "\u001b[32m2023-01-30 10:56:45.280\u001b[0m | \u001b[34m\u001b[1mDEBUG   \u001b[0m | \u001b[36mtext_renderer.corpus.corpus\u001b[0m:\u001b[36msample\u001b[0m:\u001b[36m95\u001b[0m - \u001b[34m\u001b[1mEnumCorpus /Users/datanomica/jup_workplace/text_renderer/example_data_2/font/Luminari.ttf not support chars: {'-'}\u001b[0m\n",
      "\u001b[32m2023-01-30 10:56:45.513\u001b[0m | \u001b[34m\u001b[1mDEBUG   \u001b[0m | \u001b[36mtext_renderer.corpus.corpus\u001b[0m:\u001b[36msample\u001b[0m:\u001b[36m95\u001b[0m - \u001b[34m\u001b[1mEnumCorpus /Users/datanomica/jup_workplace/text_renderer/example_data_2/font/Luminari.ttf not support chars: {'-'}\u001b[0m\n",
      "\u001b[32m2023-01-30 10:56:46.116\u001b[0m | \u001b[34m\u001b[1mDEBUG   \u001b[0m | \u001b[36mtext_renderer.corpus.corpus\u001b[0m:\u001b[36msample\u001b[0m:\u001b[36m95\u001b[0m - \u001b[34m\u001b[1mEnumCorpus /Users/datanomica/jup_workplace/text_renderer/example_data_2/font/Luminari.ttf not support chars: {'-'}\u001b[0m\n",
      "\u001b[32m2023-01-30 10:56:47.301\u001b[0m | \u001b[34m\u001b[1mDEBUG   \u001b[0m | \u001b[36mtext_renderer.corpus.corpus\u001b[0m:\u001b[36msample\u001b[0m:\u001b[36m95\u001b[0m - \u001b[34m\u001b[1mEnumCorpus /Users/datanomica/jup_workplace/text_renderer/example_data_2/font/Songti.ttc not support chars: {'»'}\u001b[0m\n",
      "\u001b[32m2023-01-30 10:56:47.828\u001b[0m | \u001b[34m\u001b[1mDEBUG   \u001b[0m | \u001b[36mtext_renderer.corpus.corpus\u001b[0m:\u001b[36msample\u001b[0m:\u001b[36m95\u001b[0m - \u001b[34m\u001b[1mEnumCorpus /Users/datanomica/jup_workplace/text_renderer/example_data_2/font/Luminari.ttf not support chars: {'-'}\u001b[0m\n",
      "\u001b[32m2023-01-30 10:56:48.440\u001b[0m | \u001b[34m\u001b[1mDEBUG   \u001b[0m | \u001b[36mtext_renderer.corpus.corpus\u001b[0m:\u001b[36msample\u001b[0m:\u001b[36m95\u001b[0m - \u001b[34m\u001b[1mEnumCorpus /Users/datanomica/jup_workplace/text_renderer/example_data_2/font/Luminari.ttf not support chars: {'-'}\u001b[0m\n",
      "\u001b[32m2023-01-30 10:56:49.092\u001b[0m | \u001b[34m\u001b[1mDEBUG   \u001b[0m | \u001b[36mtext_renderer.corpus.corpus\u001b[0m:\u001b[36msample\u001b[0m:\u001b[36m95\u001b[0m - \u001b[34m\u001b[1mEnumCorpus /Users/datanomica/jup_workplace/text_renderer/example_data_2/font/Songti.ttc not support chars: {'»'}\u001b[0m\n",
      "\u001b[32m2023-01-30 10:56:50.147\u001b[0m | \u001b[1mINFO    \u001b[0m | \u001b[36m__mp_main__\u001b[0m:\u001b[36mrun\u001b[0m:\u001b[36m56\u001b[0m - \u001b[1m50.00%(60000/120000) 907.6 img/s\u001b[0m\n",
      "\u001b[32m2023-01-30 10:56:50.246\u001b[0m | \u001b[34m\u001b[1mDEBUG   \u001b[0m | \u001b[36mtext_renderer.corpus.corpus\u001b[0m:\u001b[36msample\u001b[0m:\u001b[36m95\u001b[0m - \u001b[34m\u001b[1mEnumCorpus /Users/datanomica/jup_workplace/text_renderer/example_data_2/font/Luminari.ttf not support chars: {'-'}\u001b[0m\n",
      "\u001b[32m2023-01-30 10:56:52.360\u001b[0m | \u001b[34m\u001b[1mDEBUG   \u001b[0m | \u001b[36mtext_renderer.corpus.corpus\u001b[0m:\u001b[36msample\u001b[0m:\u001b[36m95\u001b[0m - \u001b[34m\u001b[1mEnumCorpus /Users/datanomica/jup_workplace/text_renderer/example_data_2/font/Charter.ttc not support chars: {'№'}\u001b[0m\n",
      "\u001b[32m2023-01-30 10:56:52.861\u001b[0m | \u001b[34m\u001b[1mDEBUG   \u001b[0m | \u001b[36mtext_renderer.corpus.corpus\u001b[0m:\u001b[36msample\u001b[0m:\u001b[36m95\u001b[0m - \u001b[34m\u001b[1mEnumCorpus /Users/datanomica/jup_workplace/text_renderer/example_data_2/font/Songti.ttc not support chars: {'»', '«'}\u001b[0m\n"
     ]
    },
    {
     "name": "stdout",
     "output_type": "stream",
     "text": [
      "\u001b[32m2023-01-30 10:56:53.015\u001b[0m | \u001b[34m\u001b[1mDEBUG   \u001b[0m | \u001b[36mtext_renderer.corpus.corpus\u001b[0m:\u001b[36msample\u001b[0m:\u001b[36m95\u001b[0m - \u001b[34m\u001b[1mEnumCorpus /Users/datanomica/jup_workplace/text_renderer/example_data_2/font/Songti.ttc not support chars: {'«'}\u001b[0m\n",
      "\u001b[32m2023-01-30 10:56:53.925\u001b[0m | \u001b[34m\u001b[1mDEBUG   \u001b[0m | \u001b[36mtext_renderer.corpus.corpus\u001b[0m:\u001b[36msample\u001b[0m:\u001b[36m95\u001b[0m - \u001b[34m\u001b[1mEnumCorpus /Users/datanomica/jup_workplace/text_renderer/example_data_2/font/Savoye LET.ttc not support chars: {'№'}\u001b[0m\n",
      "\u001b[32m2023-01-30 10:56:53.975\u001b[0m | \u001b[34m\u001b[1mDEBUG   \u001b[0m | \u001b[36mtext_renderer.corpus.corpus\u001b[0m:\u001b[36msample\u001b[0m:\u001b[36m95\u001b[0m - \u001b[34m\u001b[1mEnumCorpus /Users/datanomica/jup_workplace/text_renderer/example_data_2/font/Luminari.ttf not support chars: {'-'}\u001b[0m\n",
      "\u001b[32m2023-01-30 10:56:54.178\u001b[0m | \u001b[34m\u001b[1mDEBUG   \u001b[0m | \u001b[36mtext_renderer.corpus.corpus\u001b[0m:\u001b[36msample\u001b[0m:\u001b[36m95\u001b[0m - \u001b[34m\u001b[1mEnumCorpus /Users/datanomica/jup_workplace/text_renderer/example_data_2/font/Copperplate.ttc not support chars: {'№'}\u001b[0m\n",
      "\u001b[32m2023-01-30 10:56:54.459\u001b[0m | \u001b[34m\u001b[1mDEBUG   \u001b[0m | \u001b[36mtext_renderer.corpus.corpus\u001b[0m:\u001b[36msample\u001b[0m:\u001b[36m95\u001b[0m - \u001b[34m\u001b[1mEnumCorpus /Users/datanomica/jup_workplace/text_renderer/example_data_2/font/Luminari.ttf not support chars: {'-'}\u001b[0m\n",
      "\u001b[32m2023-01-30 10:56:54.974\u001b[0m | \u001b[34m\u001b[1mDEBUG   \u001b[0m | \u001b[36mtext_renderer.corpus.corpus\u001b[0m:\u001b[36msample\u001b[0m:\u001b[36m95\u001b[0m - \u001b[34m\u001b[1mEnumCorpus /Users/datanomica/jup_workplace/text_renderer/example_data_2/font/Luminari.ttf not support chars: {'-'}\u001b[0m\n",
      "\u001b[32m2023-01-30 10:56:55.645\u001b[0m | \u001b[34m\u001b[1mDEBUG   \u001b[0m | \u001b[36mtext_renderer.corpus.corpus\u001b[0m:\u001b[36msample\u001b[0m:\u001b[36m95\u001b[0m - \u001b[34m\u001b[1mEnumCorpus /Users/datanomica/jup_workplace/text_renderer/example_data_2/font/Sathu.ttf not support chars: {'№'}\u001b[0m\n",
      "\u001b[32m2023-01-30 10:56:56.000\u001b[0m | \u001b[34m\u001b[1mDEBUG   \u001b[0m | \u001b[36mtext_renderer.corpus.corpus\u001b[0m:\u001b[36msample\u001b[0m:\u001b[36m95\u001b[0m - \u001b[34m\u001b[1mEnumCorpus /Users/datanomica/jup_workplace/text_renderer/example_data_2/font/Luminari.ttf not support chars: {'-'}\u001b[0m\n",
      "\u001b[32m2023-01-30 10:56:56.390\u001b[0m | \u001b[34m\u001b[1mDEBUG   \u001b[0m | \u001b[36mtext_renderer.corpus.corpus\u001b[0m:\u001b[36msample\u001b[0m:\u001b[36m95\u001b[0m - \u001b[34m\u001b[1mEnumCorpus /Users/datanomica/jup_workplace/text_renderer/example_data_2/font/Luminari.ttf not support chars: {'-'}\u001b[0m\n",
      "\u001b[32m2023-01-30 10:56:56.881\u001b[0m | \u001b[34m\u001b[1mDEBUG   \u001b[0m | \u001b[36mtext_renderer.corpus.corpus\u001b[0m:\u001b[36msample\u001b[0m:\u001b[36m95\u001b[0m - \u001b[34m\u001b[1mEnumCorpus /Users/datanomica/jup_workplace/text_renderer/example_data_2/font/SnellRoundhand.ttc not support chars: {'№'}\u001b[0m\n",
      "\u001b[32m2023-01-30 10:56:57.617\u001b[0m | \u001b[34m\u001b[1mDEBUG   \u001b[0m | \u001b[36mtext_renderer.corpus.corpus\u001b[0m:\u001b[36msample\u001b[0m:\u001b[36m95\u001b[0m - \u001b[34m\u001b[1mEnumCorpus /Users/datanomica/jup_workplace/text_renderer/example_data_2/font/Charter.ttc not support chars: {'№'}\u001b[0m\n",
      "\u001b[32m2023-01-30 10:56:57.674\u001b[0m | \u001b[34m\u001b[1mDEBUG   \u001b[0m | \u001b[36mtext_renderer.corpus.corpus\u001b[0m:\u001b[36msample\u001b[0m:\u001b[36m95\u001b[0m - \u001b[34m\u001b[1mEnumCorpus /Users/datanomica/jup_workplace/text_renderer/example_data_2/font/Charter.ttc not support chars: {'№'}\u001b[0m\n",
      "\u001b[32m2023-01-30 10:56:59.238\u001b[0m | \u001b[34m\u001b[1mDEBUG   \u001b[0m | \u001b[36mtext_renderer.corpus.corpus\u001b[0m:\u001b[36msample\u001b[0m:\u001b[36m95\u001b[0m - \u001b[34m\u001b[1mEnumCorpus /Users/datanomica/jup_workplace/text_renderer/example_data_2/font/Luminari.ttf not support chars: {'-'}\u001b[0m\n",
      "\u001b[32m2023-01-30 10:57:00.750\u001b[0m | \u001b[34m\u001b[1mDEBUG   \u001b[0m | \u001b[36mtext_renderer.corpus.corpus\u001b[0m:\u001b[36msample\u001b[0m:\u001b[36m95\u001b[0m - \u001b[34m\u001b[1mEnumCorpus /Users/datanomica/jup_workplace/text_renderer/example_data_2/font/Luminari.ttf not support chars: {'-'}\u001b[0m\n",
      "\u001b[32m2023-01-30 10:57:02.221\u001b[0m | \u001b[34m\u001b[1mDEBUG   \u001b[0m | \u001b[36mtext_renderer.corpus.corpus\u001b[0m:\u001b[36msample\u001b[0m:\u001b[36m95\u001b[0m - \u001b[34m\u001b[1mEnumCorpus /Users/datanomica/jup_workplace/text_renderer/example_data_2/font/Songti.ttc not support chars: {'«'}\u001b[0m\n",
      "\u001b[32m2023-01-30 10:57:03.232\u001b[0m | \u001b[1mINFO    \u001b[0m | \u001b[36m__mp_main__\u001b[0m:\u001b[36mrun\u001b[0m:\u001b[36m56\u001b[0m - \u001b[1m60.00%(72000/120000) 917.1 img/s\u001b[0m\n",
      "\u001b[32m2023-01-30 10:57:03.308\u001b[0m | \u001b[34m\u001b[1mDEBUG   \u001b[0m | \u001b[36mtext_renderer.corpus.corpus\u001b[0m:\u001b[36msample\u001b[0m:\u001b[36m95\u001b[0m - \u001b[34m\u001b[1mEnumCorpus /Users/datanomica/jup_workplace/text_renderer/example_data_2/font/Luminari.ttf not support chars: {'-'}\u001b[0m\n",
      "\u001b[32m2023-01-30 10:57:03.764\u001b[0m | \u001b[34m\u001b[1mDEBUG   \u001b[0m | \u001b[36mtext_renderer.corpus.corpus\u001b[0m:\u001b[36msample\u001b[0m:\u001b[36m95\u001b[0m - \u001b[34m\u001b[1mEnumCorpus /Users/datanomica/jup_workplace/text_renderer/example_data_2/font/Luminari.ttf not support chars: {'-'}\u001b[0m\n",
      "\u001b[32m2023-01-30 10:57:04.009\u001b[0m | \u001b[34m\u001b[1mDEBUG   \u001b[0m | \u001b[36mtext_renderer.corpus.corpus\u001b[0m:\u001b[36msample\u001b[0m:\u001b[36m95\u001b[0m - \u001b[34m\u001b[1mEnumCorpus /Users/datanomica/jup_workplace/text_renderer/example_data_2/font/Luminari.ttf not support chars: {'-'}\u001b[0m\n",
      "\u001b[32m2023-01-30 10:57:04.032\u001b[0m | \u001b[34m\u001b[1mDEBUG   \u001b[0m | \u001b[36mtext_renderer.corpus.corpus\u001b[0m:\u001b[36msample\u001b[0m:\u001b[36m95\u001b[0m - \u001b[34m\u001b[1mEnumCorpus /Users/datanomica/jup_workplace/text_renderer/example_data_2/font/Songti.ttc not support chars: {'«', '»'}\u001b[0m\n",
      "\u001b[32m2023-01-30 10:57:04.069\u001b[0m | \u001b[34m\u001b[1mDEBUG   \u001b[0m | \u001b[36mtext_renderer.corpus.corpus\u001b[0m:\u001b[36msample\u001b[0m:\u001b[36m95\u001b[0m - \u001b[34m\u001b[1mEnumCorpus /Users/datanomica/jup_workplace/text_renderer/example_data_2/font/Luminari.ttf not support chars: {'-'}\u001b[0m\n",
      "\u001b[32m2023-01-30 10:57:04.169\u001b[0m | \u001b[34m\u001b[1mDEBUG   \u001b[0m | \u001b[36mtext_renderer.corpus.corpus\u001b[0m:\u001b[36msample\u001b[0m:\u001b[36m95\u001b[0m - \u001b[34m\u001b[1mEnumCorpus /Users/datanomica/jup_workplace/text_renderer/example_data_2/font/Luminari.ttf not support chars: {'-'}\u001b[0m\n",
      "\u001b[32m2023-01-30 10:57:05.637\u001b[0m | \u001b[34m\u001b[1mDEBUG   \u001b[0m | \u001b[36mtext_renderer.corpus.corpus\u001b[0m:\u001b[36msample\u001b[0m:\u001b[36m95\u001b[0m - \u001b[34m\u001b[1mEnumCorpus /Users/datanomica/jup_workplace/text_renderer/example_data_2/font/Songti.ttc not support chars: {'»'}\u001b[0m\n",
      "\u001b[32m2023-01-30 10:57:06.242\u001b[0m | \u001b[34m\u001b[1mDEBUG   \u001b[0m | \u001b[36mtext_renderer.corpus.corpus\u001b[0m:\u001b[36msample\u001b[0m:\u001b[36m95\u001b[0m - \u001b[34m\u001b[1mEnumCorpus /Users/datanomica/jup_workplace/text_renderer/example_data_2/font/Luminari.ttf not support chars: {'-'}\u001b[0m\n",
      "\u001b[32m2023-01-30 10:57:06.384\u001b[0m | \u001b[34m\u001b[1mDEBUG   \u001b[0m | \u001b[36mtext_renderer.corpus.corpus\u001b[0m:\u001b[36msample\u001b[0m:\u001b[36m95\u001b[0m - \u001b[34m\u001b[1mEnumCorpus /Users/datanomica/jup_workplace/text_renderer/example_data_2/font/Hoefler Text.ttc not support chars: {'№'}\u001b[0m\n",
      "\u001b[32m2023-01-30 10:57:07.044\u001b[0m | \u001b[34m\u001b[1mDEBUG   \u001b[0m | \u001b[36mtext_renderer.corpus.corpus\u001b[0m:\u001b[36msample\u001b[0m:\u001b[36m95\u001b[0m - \u001b[34m\u001b[1mEnumCorpus /Users/datanomica/jup_workplace/text_renderer/example_data_2/font/SnellRoundhand.ttc not support chars: {'№'}\u001b[0m\n",
      "\u001b[32m2023-01-30 10:57:07.145\u001b[0m | \u001b[34m\u001b[1mDEBUG   \u001b[0m | \u001b[36mtext_renderer.corpus.corpus\u001b[0m:\u001b[36msample\u001b[0m:\u001b[36m95\u001b[0m - \u001b[34m\u001b[1mEnumCorpus /Users/datanomica/jup_workplace/text_renderer/example_data_2/font/Luminari.ttf not support chars: {'-'}\u001b[0m\n",
      "\u001b[32m2023-01-30 10:57:07.293\u001b[0m | \u001b[34m\u001b[1mDEBUG   \u001b[0m | \u001b[36mtext_renderer.corpus.corpus\u001b[0m:\u001b[36msample\u001b[0m:\u001b[36m95\u001b[0m - \u001b[34m\u001b[1mEnumCorpus /Users/datanomica/jup_workplace/text_renderer/example_data_2/font/Luminari.ttf not support chars: {'-'}\u001b[0m\n",
      "\u001b[32m2023-01-30 10:57:07.639\u001b[0m | \u001b[34m\u001b[1mDEBUG   \u001b[0m | \u001b[36mtext_renderer.corpus.corpus\u001b[0m:\u001b[36msample\u001b[0m:\u001b[36m95\u001b[0m - \u001b[34m\u001b[1mEnumCorpus /Users/datanomica/jup_workplace/text_renderer/example_data_2/font/Copperplate.ttc not support chars: {'№'}\u001b[0m\n",
      "\u001b[32m2023-01-30 10:57:07.769\u001b[0m | \u001b[34m\u001b[1mDEBUG   \u001b[0m | \u001b[36mtext_renderer.corpus.corpus\u001b[0m:\u001b[36msample\u001b[0m:\u001b[36m95\u001b[0m - \u001b[34m\u001b[1mEnumCorpus /Users/datanomica/jup_workplace/text_renderer/example_data_2/font/Luminari.ttf not support chars: {'-'}\u001b[0m\n",
      "\u001b[32m2023-01-30 10:57:08.003\u001b[0m | \u001b[34m\u001b[1mDEBUG   \u001b[0m | \u001b[36mtext_renderer.corpus.corpus\u001b[0m:\u001b[36msample\u001b[0m:\u001b[36m95\u001b[0m - \u001b[34m\u001b[1mEnumCorpus /Users/datanomica/jup_workplace/text_renderer/example_data_2/font/Luminari.ttf not support chars: {'-'}\u001b[0m\n",
      "\u001b[32m2023-01-30 10:57:09.083\u001b[0m | \u001b[34m\u001b[1mDEBUG   \u001b[0m | \u001b[36mtext_renderer.corpus.corpus\u001b[0m:\u001b[36msample\u001b[0m:\u001b[36m95\u001b[0m - \u001b[34m\u001b[1mEnumCorpus /Users/datanomica/jup_workplace/text_renderer/example_data_2/font/Luminari.ttf not support chars: {'-'}\u001b[0m\n",
      "\u001b[32m2023-01-30 10:57:09.670\u001b[0m | \u001b[34m\u001b[1mDEBUG   \u001b[0m | \u001b[36mtext_renderer.corpus.corpus\u001b[0m:\u001b[36msample\u001b[0m:\u001b[36m95\u001b[0m - \u001b[34m\u001b[1mEnumCorpus /Users/datanomica/jup_workplace/text_renderer/example_data_2/font/Luminari.ttf not support chars: {'-'}\u001b[0m\n"
     ]
    },
    {
     "name": "stdout",
     "output_type": "stream",
     "text": [
      "\u001b[32m2023-01-30 10:57:11.423\u001b[0m | \u001b[34m\u001b[1mDEBUG   \u001b[0m | \u001b[36mtext_renderer.corpus.corpus\u001b[0m:\u001b[36msample\u001b[0m:\u001b[36m95\u001b[0m - \u001b[34m\u001b[1mEnumCorpus /Users/datanomica/jup_workplace/text_renderer/example_data_2/font/Luminari.ttf not support chars: {'-'}\u001b[0m\n",
      "\u001b[32m2023-01-30 10:57:11.714\u001b[0m | \u001b[34m\u001b[1mDEBUG   \u001b[0m | \u001b[36mtext_renderer.corpus.corpus\u001b[0m:\u001b[36msample\u001b[0m:\u001b[36m95\u001b[0m - \u001b[34m\u001b[1mEnumCorpus /Users/datanomica/jup_workplace/text_renderer/example_data_2/font/Charter.ttc not support chars: {'№'}\u001b[0m\n",
      "\u001b[32m2023-01-30 10:57:13.308\u001b[0m | \u001b[34m\u001b[1mDEBUG   \u001b[0m | \u001b[36mtext_renderer.corpus.corpus\u001b[0m:\u001b[36msample\u001b[0m:\u001b[36m95\u001b[0m - \u001b[34m\u001b[1mEnumCorpus /Users/datanomica/jup_workplace/text_renderer/example_data_2/font/Charter.ttc not support chars: {'№'}\u001b[0m\n",
      "\u001b[32m2023-01-30 10:57:13.667\u001b[0m | \u001b[34m\u001b[1mDEBUG   \u001b[0m | \u001b[36mtext_renderer.corpus.corpus\u001b[0m:\u001b[36msample\u001b[0m:\u001b[36m95\u001b[0m - \u001b[34m\u001b[1mEnumCorpus /Users/datanomica/jup_workplace/text_renderer/example_data_2/font/Savoye LET.ttc not support chars: {'№'}\u001b[0m\n",
      "\u001b[32m2023-01-30 10:57:13.855\u001b[0m | \u001b[34m\u001b[1mDEBUG   \u001b[0m | \u001b[36mtext_renderer.corpus.corpus\u001b[0m:\u001b[36msample\u001b[0m:\u001b[36m95\u001b[0m - \u001b[34m\u001b[1mEnumCorpus /Users/datanomica/jup_workplace/text_renderer/example_data_2/font/Luminari.ttf not support chars: {'-'}\u001b[0m\n",
      "\u001b[32m2023-01-30 10:57:14.072\u001b[0m | \u001b[34m\u001b[1mDEBUG   \u001b[0m | \u001b[36mtext_renderer.corpus.corpus\u001b[0m:\u001b[36msample\u001b[0m:\u001b[36m95\u001b[0m - \u001b[34m\u001b[1mEnumCorpus /Users/datanomica/jup_workplace/text_renderer/example_data_2/font/Songti.ttc not support chars: {'»', '«'}\u001b[0m\n",
      "\u001b[32m2023-01-30 10:57:15.002\u001b[0m | \u001b[34m\u001b[1mDEBUG   \u001b[0m | \u001b[36mtext_renderer.corpus.corpus\u001b[0m:\u001b[36msample\u001b[0m:\u001b[36m95\u001b[0m - \u001b[34m\u001b[1mEnumCorpus /Users/datanomica/jup_workplace/text_renderer/example_data_2/font/Luminari.ttf not support chars: {'-'}\u001b[0m\n",
      "\u001b[32m2023-01-30 10:57:16.538\u001b[0m | \u001b[1mINFO    \u001b[0m | \u001b[36m__mp_main__\u001b[0m:\u001b[36mrun\u001b[0m:\u001b[36m56\u001b[0m - \u001b[1m70.00%(84000/120000) 901.8 img/s\u001b[0m\n",
      "\u001b[32m2023-01-30 10:57:17.962\u001b[0m | \u001b[34m\u001b[1mDEBUG   \u001b[0m | \u001b[36mtext_renderer.corpus.corpus\u001b[0m:\u001b[36msample\u001b[0m:\u001b[36m95\u001b[0m - \u001b[34m\u001b[1mEnumCorpus /Users/datanomica/jup_workplace/text_renderer/example_data_2/font/Luminari.ttf not support chars: {'-'}\u001b[0m\n",
      "\u001b[32m2023-01-30 10:57:18.012\u001b[0m | \u001b[34m\u001b[1mDEBUG   \u001b[0m | \u001b[36mtext_renderer.corpus.corpus\u001b[0m:\u001b[36msample\u001b[0m:\u001b[36m95\u001b[0m - \u001b[34m\u001b[1mEnumCorpus /Users/datanomica/jup_workplace/text_renderer/example_data_2/font/Luminari.ttf not support chars: {'-'}\u001b[0m\n",
      "\u001b[32m2023-01-30 10:57:18.982\u001b[0m | \u001b[34m\u001b[1mDEBUG   \u001b[0m | \u001b[36mtext_renderer.corpus.corpus\u001b[0m:\u001b[36msample\u001b[0m:\u001b[36m95\u001b[0m - \u001b[34m\u001b[1mEnumCorpus /Users/datanomica/jup_workplace/text_renderer/example_data_2/font/Songti.ttc not support chars: {'»'}\u001b[0m\n",
      "\u001b[32m2023-01-30 10:57:19.994\u001b[0m | \u001b[34m\u001b[1mDEBUG   \u001b[0m | \u001b[36mtext_renderer.corpus.corpus\u001b[0m:\u001b[36msample\u001b[0m:\u001b[36m95\u001b[0m - \u001b[34m\u001b[1mEnumCorpus /Users/datanomica/jup_workplace/text_renderer/example_data_2/font/Luminari.ttf not support chars: {'-'}\u001b[0m\n",
      "\u001b[32m2023-01-30 10:57:20.886\u001b[0m | \u001b[34m\u001b[1mDEBUG   \u001b[0m | \u001b[36mtext_renderer.corpus.corpus\u001b[0m:\u001b[36msample\u001b[0m:\u001b[36m95\u001b[0m - \u001b[34m\u001b[1mEnumCorpus /Users/datanomica/jup_workplace/text_renderer/example_data_2/font/Songti.ttc not support chars: {'«', '»'}\u001b[0m\n",
      "\u001b[32m2023-01-30 10:57:20.919\u001b[0m | \u001b[34m\u001b[1mDEBUG   \u001b[0m | \u001b[36mtext_renderer.corpus.corpus\u001b[0m:\u001b[36msample\u001b[0m:\u001b[36m95\u001b[0m - \u001b[34m\u001b[1mEnumCorpus /Users/datanomica/jup_workplace/text_renderer/example_data_2/font/Luminari.ttf not support chars: {'-'}\u001b[0m\n",
      "\u001b[32m2023-01-30 10:57:20.935\u001b[0m | \u001b[34m\u001b[1mDEBUG   \u001b[0m | \u001b[36mtext_renderer.corpus.corpus\u001b[0m:\u001b[36msample\u001b[0m:\u001b[36m95\u001b[0m - \u001b[34m\u001b[1mEnumCorpus /Users/datanomica/jup_workplace/text_renderer/example_data_2/font/Songti.ttc not support chars: {'»'}\u001b[0m\n",
      "\u001b[32m2023-01-30 10:57:21.198\u001b[0m | \u001b[34m\u001b[1mDEBUG   \u001b[0m | \u001b[36mtext_renderer.corpus.corpus\u001b[0m:\u001b[36msample\u001b[0m:\u001b[36m95\u001b[0m - \u001b[34m\u001b[1mEnumCorpus /Users/datanomica/jup_workplace/text_renderer/example_data_2/font/Luminari.ttf not support chars: {'-'}\u001b[0m\n",
      "\u001b[32m2023-01-30 10:57:21.333\u001b[0m | \u001b[34m\u001b[1mDEBUG   \u001b[0m | \u001b[36mtext_renderer.corpus.corpus\u001b[0m:\u001b[36msample\u001b[0m:\u001b[36m95\u001b[0m - \u001b[34m\u001b[1mEnumCorpus /Users/datanomica/jup_workplace/text_renderer/example_data_2/font/Songti.ttc not support chars: {'»'}\u001b[0m\n",
      "\u001b[32m2023-01-30 10:57:21.394\u001b[0m | \u001b[34m\u001b[1mDEBUG   \u001b[0m | \u001b[36mtext_renderer.corpus.corpus\u001b[0m:\u001b[36msample\u001b[0m:\u001b[36m95\u001b[0m - \u001b[34m\u001b[1mEnumCorpus /Users/datanomica/jup_workplace/text_renderer/example_data_2/font/DIN Alternate Bold.ttf not support chars: {'№'}\u001b[0m\n",
      "\u001b[32m2023-01-30 10:57:24.003\u001b[0m | \u001b[34m\u001b[1mDEBUG   \u001b[0m | \u001b[36mtext_renderer.corpus.corpus\u001b[0m:\u001b[36msample\u001b[0m:\u001b[36m95\u001b[0m - \u001b[34m\u001b[1mEnumCorpus /Users/datanomica/jup_workplace/text_renderer/example_data_2/font/Songti.ttc not support chars: {'«', '»'}\u001b[0m\n",
      "\u001b[32m2023-01-30 10:57:24.383\u001b[0m | \u001b[34m\u001b[1mDEBUG   \u001b[0m | \u001b[36mtext_renderer.corpus.corpus\u001b[0m:\u001b[36msample\u001b[0m:\u001b[36m95\u001b[0m - \u001b[34m\u001b[1mEnumCorpus /Users/datanomica/jup_workplace/text_renderer/example_data_2/font/Savoye LET.ttc not support chars: {'№'}\u001b[0m\n",
      "\u001b[32m2023-01-30 10:57:24.419\u001b[0m | \u001b[34m\u001b[1mDEBUG   \u001b[0m | \u001b[36mtext_renderer.corpus.corpus\u001b[0m:\u001b[36msample\u001b[0m:\u001b[36m95\u001b[0m - \u001b[34m\u001b[1mEnumCorpus /Users/datanomica/jup_workplace/text_renderer/example_data_2/font/Savoye LET.ttc not support chars: {'№'}\u001b[0m\n",
      "\u001b[32m2023-01-30 10:57:24.555\u001b[0m | \u001b[34m\u001b[1mDEBUG   \u001b[0m | \u001b[36mtext_renderer.corpus.corpus\u001b[0m:\u001b[36msample\u001b[0m:\u001b[36m95\u001b[0m - \u001b[34m\u001b[1mEnumCorpus /Users/datanomica/jup_workplace/text_renderer/example_data_2/font/Luminari.ttf not support chars: {'-'}\u001b[0m\n",
      "\u001b[32m2023-01-30 10:57:24.638\u001b[0m | \u001b[34m\u001b[1mDEBUG   \u001b[0m | \u001b[36mtext_renderer.corpus.corpus\u001b[0m:\u001b[36msample\u001b[0m:\u001b[36m95\u001b[0m - \u001b[34m\u001b[1mEnumCorpus /Users/datanomica/jup_workplace/text_renderer/example_data_2/font/Songti.ttc not support chars: {'»'}\u001b[0m\n",
      "\u001b[32m2023-01-30 10:57:25.013\u001b[0m | \u001b[34m\u001b[1mDEBUG   \u001b[0m | \u001b[36mtext_renderer.corpus.corpus\u001b[0m:\u001b[36msample\u001b[0m:\u001b[36m95\u001b[0m - \u001b[34m\u001b[1mEnumCorpus /Users/datanomica/jup_workplace/text_renderer/example_data_2/font/Luminari.ttf not support chars: {'-'}\u001b[0m\n",
      "\u001b[32m2023-01-30 10:57:25.102\u001b[0m | \u001b[34m\u001b[1mDEBUG   \u001b[0m | \u001b[36mtext_renderer.corpus.corpus\u001b[0m:\u001b[36msample\u001b[0m:\u001b[36m95\u001b[0m - \u001b[34m\u001b[1mEnumCorpus /Users/datanomica/jup_workplace/text_renderer/example_data_2/font/Hoefler Text.ttc not support chars: {'№'}\u001b[0m\n",
      "\u001b[32m2023-01-30 10:57:25.298\u001b[0m | \u001b[34m\u001b[1mDEBUG   \u001b[0m | \u001b[36mtext_renderer.corpus.corpus\u001b[0m:\u001b[36msample\u001b[0m:\u001b[36m95\u001b[0m - \u001b[34m\u001b[1mEnumCorpus /Users/datanomica/jup_workplace/text_renderer/example_data_2/font/Songti.ttc not support chars: {'«', '»'}\u001b[0m\n",
      "\u001b[32m2023-01-30 10:57:25.621\u001b[0m | \u001b[34m\u001b[1mDEBUG   \u001b[0m | \u001b[36mtext_renderer.corpus.corpus\u001b[0m:\u001b[36msample\u001b[0m:\u001b[36m95\u001b[0m - \u001b[34m\u001b[1mEnumCorpus /Users/datanomica/jup_workplace/text_renderer/example_data_2/font/Luminari.ttf not support chars: {'-'}\u001b[0m\n",
      "\u001b[32m2023-01-30 10:57:26.958\u001b[0m | \u001b[34m\u001b[1mDEBUG   \u001b[0m | \u001b[36mtext_renderer.corpus.corpus\u001b[0m:\u001b[36msample\u001b[0m:\u001b[36m95\u001b[0m - \u001b[34m\u001b[1mEnumCorpus /Users/datanomica/jup_workplace/text_renderer/example_data_2/font/Hoefler Text.ttc not support chars: {'№'}\u001b[0m\n",
      "\u001b[32m2023-01-30 10:57:27.163\u001b[0m | \u001b[34m\u001b[1mDEBUG   \u001b[0m | \u001b[36mtext_renderer.corpus.corpus\u001b[0m:\u001b[36msample\u001b[0m:\u001b[36m95\u001b[0m - \u001b[34m\u001b[1mEnumCorpus /Users/datanomica/jup_workplace/text_renderer/example_data_2/font/Songti.ttc not support chars: {'»', '«'}\u001b[0m\n",
      "\u001b[32m2023-01-30 10:57:27.221\u001b[0m | \u001b[34m\u001b[1mDEBUG   \u001b[0m | \u001b[36mtext_renderer.corpus.corpus\u001b[0m:\u001b[36msample\u001b[0m:\u001b[36m95\u001b[0m - \u001b[34m\u001b[1mEnumCorpus /Users/datanomica/jup_workplace/text_renderer/example_data_2/font/Sathu.ttf not support chars: {'№'}\u001b[0m\n",
      "\u001b[32m2023-01-30 10:57:27.968\u001b[0m | \u001b[34m\u001b[1mDEBUG   \u001b[0m | \u001b[36mtext_renderer.corpus.corpus\u001b[0m:\u001b[36msample\u001b[0m:\u001b[36m95\u001b[0m - \u001b[34m\u001b[1mEnumCorpus /Users/datanomica/jup_workplace/text_renderer/example_data_2/font/Songti.ttc not support chars: {'»', '«'}\u001b[0m\n",
      "\u001b[32m2023-01-30 10:57:28.183\u001b[0m | \u001b[34m\u001b[1mDEBUG   \u001b[0m | \u001b[36mtext_renderer.corpus.corpus\u001b[0m:\u001b[36msample\u001b[0m:\u001b[36m95\u001b[0m - \u001b[34m\u001b[1mEnumCorpus /Users/datanomica/jup_workplace/text_renderer/example_data_2/font/Luminari.ttf not support chars: {'-'}\u001b[0m\n",
      "\u001b[32m2023-01-30 10:57:28.656\u001b[0m | \u001b[34m\u001b[1mDEBUG   \u001b[0m | \u001b[36mtext_renderer.corpus.corpus\u001b[0m:\u001b[36msample\u001b[0m:\u001b[36m95\u001b[0m - \u001b[34m\u001b[1mEnumCorpus /Users/datanomica/jup_workplace/text_renderer/example_data_2/font/Songti.ttc not support chars: {'»'}\u001b[0m\n"
     ]
    },
    {
     "name": "stdout",
     "output_type": "stream",
     "text": [
      "\u001b[32m2023-01-30 10:57:29.164\u001b[0m | \u001b[34m\u001b[1mDEBUG   \u001b[0m | \u001b[36mtext_renderer.corpus.corpus\u001b[0m:\u001b[36msample\u001b[0m:\u001b[36m95\u001b[0m - \u001b[34m\u001b[1mEnumCorpus /Users/datanomica/jup_workplace/text_renderer/example_data_2/font/Luminari.ttf not support chars: {'-'}\u001b[0m\n",
      "\u001b[32m2023-01-30 10:57:29.390\u001b[0m | \u001b[34m\u001b[1mDEBUG   \u001b[0m | \u001b[36mtext_renderer.corpus.corpus\u001b[0m:\u001b[36msample\u001b[0m:\u001b[36m95\u001b[0m - \u001b[34m\u001b[1mEnumCorpus /Users/datanomica/jup_workplace/text_renderer/example_data_2/font/Songti.ttc not support chars: {'«'}\u001b[0m\n",
      "\u001b[32m2023-01-30 10:57:29.700\u001b[0m | \u001b[34m\u001b[1mDEBUG   \u001b[0m | \u001b[36mtext_renderer.corpus.corpus\u001b[0m:\u001b[36msample\u001b[0m:\u001b[36m95\u001b[0m - \u001b[34m\u001b[1mEnumCorpus /Users/datanomica/jup_workplace/text_renderer/example_data_2/font/Hoefler Text.ttc not support chars: {'№'}\u001b[0m\n",
      "\u001b[32m2023-01-30 10:57:29.786\u001b[0m | \u001b[34m\u001b[1mDEBUG   \u001b[0m | \u001b[36mtext_renderer.corpus.corpus\u001b[0m:\u001b[36msample\u001b[0m:\u001b[36m95\u001b[0m - \u001b[34m\u001b[1mEnumCorpus /Users/datanomica/jup_workplace/text_renderer/example_data_2/font/Sathu.ttf not support chars: {'№'}\u001b[0m\n",
      "\u001b[32m2023-01-30 10:57:30.001\u001b[0m | \u001b[1mINFO    \u001b[0m | \u001b[36m__mp_main__\u001b[0m:\u001b[36mrun\u001b[0m:\u001b[36m56\u001b[0m - \u001b[1m80.00%(96000/120000) 891.4 img/s\u001b[0m\n",
      "\u001b[32m2023-01-30 10:57:31.450\u001b[0m | \u001b[34m\u001b[1mDEBUG   \u001b[0m | \u001b[36mtext_renderer.corpus.corpus\u001b[0m:\u001b[36msample\u001b[0m:\u001b[36m95\u001b[0m - \u001b[34m\u001b[1mEnumCorpus /Users/datanomica/jup_workplace/text_renderer/example_data_2/font/Hoefler Text.ttc not support chars: {'№'}\u001b[0m\n",
      "\u001b[32m2023-01-30 10:57:32.234\u001b[0m | \u001b[34m\u001b[1mDEBUG   \u001b[0m | \u001b[36mtext_renderer.corpus.corpus\u001b[0m:\u001b[36msample\u001b[0m:\u001b[36m95\u001b[0m - \u001b[34m\u001b[1mEnumCorpus /Users/datanomica/jup_workplace/text_renderer/example_data_2/font/Luminari.ttf not support chars: {'-'}\u001b[0m\n",
      "\u001b[32m2023-01-30 10:57:32.636\u001b[0m | \u001b[34m\u001b[1mDEBUG   \u001b[0m | \u001b[36mtext_renderer.corpus.corpus\u001b[0m:\u001b[36msample\u001b[0m:\u001b[36m95\u001b[0m - \u001b[34m\u001b[1mEnumCorpus /Users/datanomica/jup_workplace/text_renderer/example_data_2/font/Ayuthaya.ttf not support chars: {'№'}\u001b[0m\n",
      "\u001b[32m2023-01-30 10:57:32.761\u001b[0m | \u001b[34m\u001b[1mDEBUG   \u001b[0m | \u001b[36mtext_renderer.corpus.corpus\u001b[0m:\u001b[36msample\u001b[0m:\u001b[36m95\u001b[0m - \u001b[34m\u001b[1mEnumCorpus /Users/datanomica/jup_workplace/text_renderer/example_data_2/font/Songti.ttc not support chars: {'«'}\u001b[0m\n",
      "\u001b[32m2023-01-30 10:57:33.798\u001b[0m | \u001b[34m\u001b[1mDEBUG   \u001b[0m | \u001b[36mtext_renderer.corpus.corpus\u001b[0m:\u001b[36msample\u001b[0m:\u001b[36m95\u001b[0m - \u001b[34m\u001b[1mEnumCorpus /Users/datanomica/jup_workplace/text_renderer/example_data_2/font/Luminari.ttf not support chars: {'-'}\u001b[0m\n",
      "\u001b[32m2023-01-30 10:57:34.511\u001b[0m | \u001b[34m\u001b[1mDEBUG   \u001b[0m | \u001b[36mtext_renderer.corpus.corpus\u001b[0m:\u001b[36msample\u001b[0m:\u001b[36m95\u001b[0m - \u001b[34m\u001b[1mEnumCorpus /Users/datanomica/jup_workplace/text_renderer/example_data_2/font/Luminari.ttf not support chars: {'-'}\u001b[0m\n",
      "\u001b[32m2023-01-30 10:57:34.761\u001b[0m | \u001b[34m\u001b[1mDEBUG   \u001b[0m | \u001b[36mtext_renderer.corpus.corpus\u001b[0m:\u001b[36msample\u001b[0m:\u001b[36m95\u001b[0m - \u001b[34m\u001b[1mEnumCorpus /Users/datanomica/jup_workplace/text_renderer/example_data_2/font/Luminari.ttf not support chars: {'-'}\u001b[0m\n",
      "\u001b[32m2023-01-30 10:57:35.048\u001b[0m | \u001b[34m\u001b[1mDEBUG   \u001b[0m | \u001b[36mtext_renderer.corpus.corpus\u001b[0m:\u001b[36msample\u001b[0m:\u001b[36m95\u001b[0m - \u001b[34m\u001b[1mEnumCorpus /Users/datanomica/jup_workplace/text_renderer/example_data_2/font/Luminari.ttf not support chars: {'-'}\u001b[0m\n",
      "\u001b[32m2023-01-30 10:57:35.784\u001b[0m | \u001b[34m\u001b[1mDEBUG   \u001b[0m | \u001b[36mtext_renderer.corpus.corpus\u001b[0m:\u001b[36msample\u001b[0m:\u001b[36m95\u001b[0m - \u001b[34m\u001b[1mEnumCorpus /Users/datanomica/jup_workplace/text_renderer/example_data_2/font/Copperplate.ttc not support chars: {'№'}\u001b[0m\n",
      "\u001b[32m2023-01-30 10:57:36.383\u001b[0m | \u001b[34m\u001b[1mDEBUG   \u001b[0m | \u001b[36mtext_renderer.corpus.corpus\u001b[0m:\u001b[36msample\u001b[0m:\u001b[36m95\u001b[0m - \u001b[34m\u001b[1mEnumCorpus /Users/datanomica/jup_workplace/text_renderer/example_data_2/font/Hoefler Text.ttc not support chars: {'№'}\u001b[0m\n",
      "\u001b[32m2023-01-30 10:57:36.446\u001b[0m | \u001b[34m\u001b[1mDEBUG   \u001b[0m | \u001b[36mtext_renderer.corpus.corpus\u001b[0m:\u001b[36msample\u001b[0m:\u001b[36m95\u001b[0m - \u001b[34m\u001b[1mEnumCorpus /Users/datanomica/jup_workplace/text_renderer/example_data_2/font/Savoye LET.ttc not support chars: {'№'}\u001b[0m\n",
      "\u001b[32m2023-01-30 10:57:37.488\u001b[0m | \u001b[34m\u001b[1mDEBUG   \u001b[0m | \u001b[36mtext_renderer.corpus.corpus\u001b[0m:\u001b[36msample\u001b[0m:\u001b[36m95\u001b[0m - \u001b[34m\u001b[1mEnumCorpus /Users/datanomica/jup_workplace/text_renderer/example_data_2/font/Charter.ttc not support chars: {'№'}\u001b[0m\n",
      "\u001b[32m2023-01-30 10:57:38.970\u001b[0m | \u001b[34m\u001b[1mDEBUG   \u001b[0m | \u001b[36mtext_renderer.corpus.corpus\u001b[0m:\u001b[36msample\u001b[0m:\u001b[36m95\u001b[0m - \u001b[34m\u001b[1mEnumCorpus /Users/datanomica/jup_workplace/text_renderer/example_data_2/font/Luminari.ttf not support chars: {'-'}\u001b[0m\n",
      "\u001b[32m2023-01-30 10:57:39.762\u001b[0m | \u001b[34m\u001b[1mDEBUG   \u001b[0m | \u001b[36mtext_renderer.corpus.corpus\u001b[0m:\u001b[36msample\u001b[0m:\u001b[36m95\u001b[0m - \u001b[34m\u001b[1mEnumCorpus /Users/datanomica/jup_workplace/text_renderer/example_data_2/font/Luminari.ttf not support chars: {'-'}\u001b[0m\n",
      "\u001b[32m2023-01-30 10:57:40.134\u001b[0m | \u001b[34m\u001b[1mDEBUG   \u001b[0m | \u001b[36mtext_renderer.corpus.corpus\u001b[0m:\u001b[36msample\u001b[0m:\u001b[36m95\u001b[0m - \u001b[34m\u001b[1mEnumCorpus /Users/datanomica/jup_workplace/text_renderer/example_data_2/font/Ayuthaya.ttf not support chars: {'№'}\u001b[0m\n",
      "\u001b[32m2023-01-30 10:57:40.906\u001b[0m | \u001b[34m\u001b[1mDEBUG   \u001b[0m | \u001b[36mtext_renderer.corpus.corpus\u001b[0m:\u001b[36msample\u001b[0m:\u001b[36m95\u001b[0m - \u001b[34m\u001b[1mEnumCorpus /Users/datanomica/jup_workplace/text_renderer/example_data_2/font/Luminari.ttf not support chars: {'-'}\u001b[0m\n",
      "\u001b[32m2023-01-30 10:57:41.182\u001b[0m | \u001b[34m\u001b[1mDEBUG   \u001b[0m | \u001b[36mtext_renderer.corpus.corpus\u001b[0m:\u001b[36msample\u001b[0m:\u001b[36m95\u001b[0m - \u001b[34m\u001b[1mEnumCorpus /Users/datanomica/jup_workplace/text_renderer/example_data_2/font/Luminari.ttf not support chars: {'-'}\u001b[0m\n",
      "\u001b[32m2023-01-30 10:57:41.934\u001b[0m | \u001b[34m\u001b[1mDEBUG   \u001b[0m | \u001b[36mtext_renderer.corpus.corpus\u001b[0m:\u001b[36msample\u001b[0m:\u001b[36m95\u001b[0m - \u001b[34m\u001b[1mEnumCorpus /Users/datanomica/jup_workplace/text_renderer/example_data_2/font/Luminari.ttf not support chars: {'-'}\u001b[0m\n",
      "\u001b[32m2023-01-30 10:57:42.824\u001b[0m | \u001b[34m\u001b[1mDEBUG   \u001b[0m | \u001b[36mtext_renderer.corpus.corpus\u001b[0m:\u001b[36msample\u001b[0m:\u001b[36m95\u001b[0m - \u001b[34m\u001b[1mEnumCorpus /Users/datanomica/jup_workplace/text_renderer/example_data_2/font/Ayuthaya.ttf not support chars: {'№'}\u001b[0m\n",
      "\u001b[32m2023-01-30 10:57:43.047\u001b[0m | \u001b[1mINFO    \u001b[0m | \u001b[36m__mp_main__\u001b[0m:\u001b[36mrun\u001b[0m:\u001b[36m56\u001b[0m - \u001b[1m90.00%(108000/120000) 919.8 img/s\u001b[0m\n",
      "\u001b[32m2023-01-30 10:57:43.189\u001b[0m | \u001b[34m\u001b[1mDEBUG   \u001b[0m | \u001b[36mtext_renderer.corpus.corpus\u001b[0m:\u001b[36msample\u001b[0m:\u001b[36m95\u001b[0m - \u001b[34m\u001b[1mEnumCorpus /Users/datanomica/jup_workplace/text_renderer/example_data_2/font/Luminari.ttf not support chars: {'-'}\u001b[0m\n",
      "\u001b[32m2023-01-30 10:57:44.076\u001b[0m | \u001b[34m\u001b[1mDEBUG   \u001b[0m | \u001b[36mtext_renderer.corpus.corpus\u001b[0m:\u001b[36msample\u001b[0m:\u001b[36m95\u001b[0m - \u001b[34m\u001b[1mEnumCorpus /Users/datanomica/jup_workplace/text_renderer/example_data_2/font/Charter.ttc not support chars: {'№'}\u001b[0m\n",
      "\u001b[32m2023-01-30 10:57:45.067\u001b[0m | \u001b[34m\u001b[1mDEBUG   \u001b[0m | \u001b[36mtext_renderer.corpus.corpus\u001b[0m:\u001b[36msample\u001b[0m:\u001b[36m95\u001b[0m - \u001b[34m\u001b[1mEnumCorpus /Users/datanomica/jup_workplace/text_renderer/example_data_2/font/Luminari.ttf not support chars: {'-'}\u001b[0m\n",
      "\u001b[32m2023-01-30 10:57:49.318\u001b[0m | \u001b[34m\u001b[1mDEBUG   \u001b[0m | \u001b[36mtext_renderer.corpus.corpus\u001b[0m:\u001b[36msample\u001b[0m:\u001b[36m95\u001b[0m - \u001b[34m\u001b[1mEnumCorpus /Users/datanomica/jup_workplace/text_renderer/example_data_2/font/Ayuthaya.ttf not support chars: {'№'}\u001b[0m\n",
      "\u001b[32m2023-01-30 10:57:50.527\u001b[0m | \u001b[34m\u001b[1mDEBUG   \u001b[0m | \u001b[36mtext_renderer.corpus.corpus\u001b[0m:\u001b[36msample\u001b[0m:\u001b[36m95\u001b[0m - \u001b[34m\u001b[1mEnumCorpus /Users/datanomica/jup_workplace/text_renderer/example_data_2/font/SnellRoundhand.ttc not support chars: {'№'}\u001b[0m\n",
      "\u001b[32m2023-01-30 10:57:50.879\u001b[0m | \u001b[34m\u001b[1mDEBUG   \u001b[0m | \u001b[36mtext_renderer.corpus.corpus\u001b[0m:\u001b[36msample\u001b[0m:\u001b[36m95\u001b[0m - \u001b[34m\u001b[1mEnumCorpus /Users/datanomica/jup_workplace/text_renderer/example_data_2/font/Ayuthaya.ttf not support chars: {'№'}\u001b[0m\n",
      "\u001b[32m2023-01-30 10:57:53.370\u001b[0m | \u001b[34m\u001b[1mDEBUG   \u001b[0m | \u001b[36mtext_renderer.corpus.corpus\u001b[0m:\u001b[36msample\u001b[0m:\u001b[36m95\u001b[0m - \u001b[34m\u001b[1mEnumCorpus /Users/datanomica/jup_workplace/text_renderer/example_data_2/font/Luminari.ttf not support chars: {'-'}\u001b[0m\n",
      "\u001b[32m2023-01-30 10:57:54.266\u001b[0m | \u001b[34m\u001b[1mDEBUG   \u001b[0m | \u001b[36mtext_renderer.corpus.corpus\u001b[0m:\u001b[36msample\u001b[0m:\u001b[36m95\u001b[0m - \u001b[34m\u001b[1mEnumCorpus /Users/datanomica/jup_workplace/text_renderer/example_data_2/font/DIN Alternate Bold.ttf not support chars: {'№'}\u001b[0m\n",
      "\u001b[32m2023-01-30 10:57:55.761\u001b[0m | \u001b[34m\u001b[1mDEBUG   \u001b[0m | \u001b[36mtext_renderer.corpus.corpus\u001b[0m:\u001b[36msample\u001b[0m:\u001b[36m95\u001b[0m - \u001b[34m\u001b[1mEnumCorpus /Users/datanomica/jup_workplace/text_renderer/example_data_2/font/Ayuthaya.ttf not support chars: {'№'}\u001b[0m\n"
     ]
    },
    {
     "name": "stdout",
     "output_type": "stream",
     "text": [
      "\u001b[32m2023-01-30 10:57:56.311\u001b[0m | \u001b[1mINFO    \u001b[0m | \u001b[36m__mp_main__\u001b[0m:\u001b[36mrun\u001b[0m:\u001b[36m56\u001b[0m - \u001b[1m100.00%(120000/120000) 904.7 img/s\u001b[0m\n",
      "\u001b[32m2023-01-30 10:57:56.540\u001b[0m | \u001b[1mINFO    \u001b[0m | \u001b[36m__mp_main__\u001b[0m:\u001b[36mrun\u001b[0m:\u001b[36m49\u001b[0m - \u001b[1mDBWriterProcess receive stop token\u001b[0m\n",
      "\u001b[32m2023-01-30 10:57:56.540\u001b[0m | \u001b[1mINFO    \u001b[0m | \u001b[36m__mp_main__\u001b[0m:\u001b[36mrun\u001b[0m:\u001b[36m61\u001b[0m - \u001b[1m100.00%(120000/120000)\u001b[0m\n",
      "\u001b[32m2023-01-30 10:57:56.540\u001b[0m | \u001b[1mINFO    \u001b[0m | \u001b[36m__mp_main__\u001b[0m:\u001b[36mrun\u001b[0m:\u001b[36m62\u001b[0m - \u001b[1mFinish generate: 120000. Total: 120000\u001b[0m\n"
     ]
    }
   ],
   "source": [
    "!python3 main.py \\\n",
    "    --config example_data_2/example_dataset_for_text_recognition.py \\\n",
    "    --dataset img \\\n",
    "    --num_processes 8 \\\n",
    "    --log_period 10"
   ]
  },
  {
   "cell_type": "code",
   "execution_count": 1,
   "metadata": {},
   "outputs": [],
   "source": [
    "def get_number_of_gen_text(x):\n",
    "    return 30000/39000*x"
   ]
  },
  {
   "cell_type": "code",
   "execution_count": 2,
   "metadata": {},
   "outputs": [
    {
     "data": {
      "text/plain": [
       "3460.0"
      ]
     },
     "execution_count": 2,
     "metadata": {},
     "output_type": "execute_result"
    }
   ],
   "source": [
    "get_number_of_gen_text(4498)"
   ]
  },
  {
   "cell_type": "code",
   "execution_count": 23,
   "metadata": {},
   "outputs": [
    {
     "data": {
      "text/plain": [
       "121016.92307692308"
      ]
     },
     "execution_count": 23,
     "metadata": {},
     "output_type": "execute_result"
    }
   ],
   "source": [
    "get_number_of_gen_text(157322)"
   ]
  },
  {
   "cell_type": "code",
   "execution_count": 44,
   "metadata": {},
   "outputs": [],
   "source": [
    "from natsort import natsorted\n",
    "list_of_images = natsorted(os.listdir('/Users/datanomica/jup_workplace/text_renderer/example_data_2/output/enum_data_rus/images'))"
   ]
  },
  {
   "cell_type": "code",
   "execution_count": 45,
   "metadata": {},
   "outputs": [],
   "source": [
    "import json\n",
    "\n",
    "with open('/Users/datanomica/jup_workplace/text_renderer/example_data_2/output/enum_data_rus/labels.json') as f:\n",
    "    loaded_json = json.load(f)"
   ]
  },
  {
   "cell_type": "code",
   "execution_count": 46,
   "metadata": {},
   "outputs": [
    {
     "data": {
      "text/plain": [
       "dict_keys(['num-samples', 'labels', 'sizes'])"
      ]
     },
     "execution_count": 46,
     "metadata": {},
     "output_type": "execute_result"
    }
   ],
   "source": [
    "loaded_json.keys()"
   ]
  },
  {
   "cell_type": "code",
   "execution_count": 47,
   "metadata": {},
   "outputs": [],
   "source": [
    "image_names = [i + '.jpg' for i in loaded_json['labels'].keys()]\n",
    "image_text = [i for i in loaded_json['labels'].values()]"
   ]
  },
  {
   "cell_type": "code",
   "execution_count": 48,
   "metadata": {},
   "outputs": [],
   "source": [
    "import pandas as pd"
   ]
  },
  {
   "cell_type": "code",
   "execution_count": 42,
   "metadata": {},
   "outputs": [
    {
     "data": {
      "text/html": [
       "<div>\n",
       "<style scoped>\n",
       "    .dataframe tbody tr th:only-of-type {\n",
       "        vertical-align: middle;\n",
       "    }\n",
       "\n",
       "    .dataframe tbody tr th {\n",
       "        vertical-align: top;\n",
       "    }\n",
       "\n",
       "    .dataframe thead th {\n",
       "        text-align: right;\n",
       "    }\n",
       "</style>\n",
       "<table border=\"1\" class=\"dataframe\">\n",
       "  <thead>\n",
       "    <tr style=\"text-align: right;\">\n",
       "      <th></th>\n",
       "      <th>file_name</th>\n",
       "      <th>text</th>\n",
       "    </tr>\n",
       "  </thead>\n",
       "  <tbody>\n",
       "    <tr>\n",
       "      <th>0</th>\n",
       "      <td>000000000.jpg</td>\n",
       "      <td>\"НАКАЗУЮ\"</td>\n",
       "    </tr>\n",
       "    <tr>\n",
       "      <th>1</th>\n",
       "      <td>000000001.jpg</td>\n",
       "      <td>Herculis</td>\n",
       "    </tr>\n",
       "    <tr>\n",
       "      <th>2</th>\n",
       "      <td>000000002.jpg</td>\n",
       "      <td>(ПЛАТОЧКОВ)</td>\n",
       "    </tr>\n",
       "    <tr>\n",
       "      <th>3</th>\n",
       "      <td>000000003.jpg</td>\n",
       "      <td>CUDDLED</td>\n",
       "    </tr>\n",
       "    <tr>\n",
       "      <th>4</th>\n",
       "      <td>000000004.jpg</td>\n",
       "      <td>ЖИРЯНКАМ</td>\n",
       "    </tr>\n",
       "    <tr>\n",
       "      <th>...</th>\n",
       "      <td>...</td>\n",
       "      <td>...</td>\n",
       "    </tr>\n",
       "    <tr>\n",
       "      <th>119995</th>\n",
       "      <td>000119995.jpg</td>\n",
       "      <td>ЗАПЛАНИРОВАННОЕ!</td>\n",
       "    </tr>\n",
       "    <tr>\n",
       "      <th>119996</th>\n",
       "      <td>000119996.jpg</td>\n",
       "      <td>ПОДОГРЕВАЮЩИМСЯ-Ответит</td>\n",
       "    </tr>\n",
       "    <tr>\n",
       "      <th>119997</th>\n",
       "      <td>000119997.jpg</td>\n",
       "      <td>pre</td>\n",
       "    </tr>\n",
       "    <tr>\n",
       "      <th>119998</th>\n",
       "      <td>000119998.jpg</td>\n",
       "      <td>Выражать</td>\n",
       "    </tr>\n",
       "    <tr>\n",
       "      <th>119999</th>\n",
       "      <td>000119999.jpg</td>\n",
       "      <td>заглаживании-ЗВЕРКОВЫМ,</td>\n",
       "    </tr>\n",
       "  </tbody>\n",
       "</table>\n",
       "<p>120000 rows × 2 columns</p>\n",
       "</div>"
      ],
      "text/plain": [
       "            file_name                     text\n",
       "0       000000000.jpg                \"НАКАЗУЮ\"\n",
       "1       000000001.jpg                 Herculis\n",
       "2       000000002.jpg              (ПЛАТОЧКОВ)\n",
       "3       000000003.jpg                  CUDDLED\n",
       "4       000000004.jpg                 ЖИРЯНКАМ\n",
       "...               ...                      ...\n",
       "119995  000119995.jpg         ЗАПЛАНИРОВАННОЕ!\n",
       "119996  000119996.jpg  ПОДОГРЕВАЮЩИМСЯ-Ответит\n",
       "119997  000119997.jpg                      pre\n",
       "119998  000119998.jpg                 Выражать\n",
       "119999  000119999.jpg  заглаживании-ЗВЕРКОВЫМ,\n",
       "\n",
       "[120000 rows x 2 columns]"
      ]
     },
     "execution_count": 42,
     "metadata": {},
     "output_type": "execute_result"
    }
   ],
   "source": [
    "im_name_label = {'file_name': image_names,\n",
    "                'text': image_text}\n",
    "df_0 = pd.DataFrame(im_name_label)\n",
    "df_0"
   ]
  },
  {
   "cell_type": "code",
   "execution_count": 50,
   "metadata": {},
   "outputs": [],
   "source": [
    "start_n = 119999\n",
    "start_n += 1\n",
    "\n",
    "new_f_names = []\n",
    "for file_name in df_0.file_name:\n",
    "    new_f_name = str(start_n).zfill(9) + '.jpg'\n",
    "    os.rename(f'example_data_2/output/enum_data_rus/images/{file_name}', f'example_data_2/output/enum_data_rus/images/{new_f_name}')\n",
    "    new_f_names.append(new_f_name)\n",
    "    \n",
    "    start_n += 1"
   ]
  },
  {
   "cell_type": "code",
   "execution_count": 49,
   "metadata": {},
   "outputs": [
    {
     "data": {
      "text/html": [
       "<div>\n",
       "<style scoped>\n",
       "    .dataframe tbody tr th:only-of-type {\n",
       "        vertical-align: middle;\n",
       "    }\n",
       "\n",
       "    .dataframe tbody tr th {\n",
       "        vertical-align: top;\n",
       "    }\n",
       "\n",
       "    .dataframe thead th {\n",
       "        text-align: right;\n",
       "    }\n",
       "</style>\n",
       "<table border=\"1\" class=\"dataframe\">\n",
       "  <thead>\n",
       "    <tr style=\"text-align: right;\">\n",
       "      <th></th>\n",
       "      <th>file_name</th>\n",
       "      <th>text</th>\n",
       "    </tr>\n",
       "  </thead>\n",
       "  <tbody>\n",
       "    <tr>\n",
       "      <th>0</th>\n",
       "      <td>000000000.jpg</td>\n",
       "      <td>4</td>\n",
       "    </tr>\n",
       "    <tr>\n",
       "      <th>1</th>\n",
       "      <td>000000001.jpg</td>\n",
       "      <td>ONDOGRAPH</td>\n",
       "    </tr>\n",
       "    <tr>\n",
       "      <th>2</th>\n",
       "      <td>000000002.jpg</td>\n",
       "      <td>ОГОЛИВШУЮ</td>\n",
       "    </tr>\n",
       "    <tr>\n",
       "      <th>3</th>\n",
       "      <td>000000003.jpg</td>\n",
       "      <td>Надорвутся</td>\n",
       "    </tr>\n",
       "    <tr>\n",
       "      <th>4</th>\n",
       "      <td>000000004.jpg</td>\n",
       "      <td>прежних!</td>\n",
       "    </tr>\n",
       "    <tr>\n",
       "      <th>...</th>\n",
       "      <td>...</td>\n",
       "      <td>...</td>\n",
       "    </tr>\n",
       "    <tr>\n",
       "      <th>119995</th>\n",
       "      <td>000119995.jpg</td>\n",
       "      <td>GLENFLORA</td>\n",
       "    </tr>\n",
       "    <tr>\n",
       "      <th>119996</th>\n",
       "      <td>000119996.jpg</td>\n",
       "      <td>отдёргивавший-написанное</td>\n",
       "    </tr>\n",
       "    <tr>\n",
       "      <th>119997</th>\n",
       "      <td>000119997.jpg</td>\n",
       "      <td>полуовальную</td>\n",
       "    </tr>\n",
       "    <tr>\n",
       "      <th>119998</th>\n",
       "      <td>000119998.jpg</td>\n",
       "      <td>Обобществленными НАДВИЖКА Растрескивавшемуся</td>\n",
       "    </tr>\n",
       "    <tr>\n",
       "      <th>119999</th>\n",
       "      <td>000119999.jpg</td>\n",
       "      <td>ПРИСВИСТЫВАЮТ Умудрявшейся</td>\n",
       "    </tr>\n",
       "  </tbody>\n",
       "</table>\n",
       "<p>120000 rows × 2 columns</p>\n",
       "</div>"
      ],
      "text/plain": [
       "            file_name                                          text\n",
       "0       000000000.jpg                                             4\n",
       "1       000000001.jpg                                     ONDOGRAPH\n",
       "2       000000002.jpg                                     ОГОЛИВШУЮ\n",
       "3       000000003.jpg                                    Надорвутся\n",
       "4       000000004.jpg                                      прежних!\n",
       "...               ...                                           ...\n",
       "119995  000119995.jpg                                     GLENFLORA\n",
       "119996  000119996.jpg                      отдёргивавший-написанное\n",
       "119997  000119997.jpg                                  полуовальную\n",
       "119998  000119998.jpg  Обобществленными НАДВИЖКА Растрескивавшемуся\n",
       "119999  000119999.jpg                    ПРИСВИСТЫВАЮТ Умудрявшейся\n",
       "\n",
       "[120000 rows x 2 columns]"
      ]
     },
     "execution_count": 49,
     "metadata": {},
     "output_type": "execute_result"
    }
   ],
   "source": [
    "im_name_label = {'file_name': image_names,\n",
    "                'text': image_text}\n",
    "df_1 = pd.DataFrame(im_name_label)\n",
    "df_1"
   ]
  },
  {
   "cell_type": "code",
   "execution_count": 51,
   "metadata": {},
   "outputs": [],
   "source": [
    "df_1.file_name = new_f_names"
   ]
  },
  {
   "cell_type": "code",
   "execution_count": 52,
   "metadata": {},
   "outputs": [
    {
     "data": {
      "text/html": [
       "<div>\n",
       "<style scoped>\n",
       "    .dataframe tbody tr th:only-of-type {\n",
       "        vertical-align: middle;\n",
       "    }\n",
       "\n",
       "    .dataframe tbody tr th {\n",
       "        vertical-align: top;\n",
       "    }\n",
       "\n",
       "    .dataframe thead th {\n",
       "        text-align: right;\n",
       "    }\n",
       "</style>\n",
       "<table border=\"1\" class=\"dataframe\">\n",
       "  <thead>\n",
       "    <tr style=\"text-align: right;\">\n",
       "      <th></th>\n",
       "      <th>file_name</th>\n",
       "      <th>text</th>\n",
       "    </tr>\n",
       "  </thead>\n",
       "  <tbody>\n",
       "    <tr>\n",
       "      <th>0</th>\n",
       "      <td>000120000.jpg</td>\n",
       "      <td>4</td>\n",
       "    </tr>\n",
       "    <tr>\n",
       "      <th>1</th>\n",
       "      <td>000120001.jpg</td>\n",
       "      <td>ONDOGRAPH</td>\n",
       "    </tr>\n",
       "    <tr>\n",
       "      <th>2</th>\n",
       "      <td>000120002.jpg</td>\n",
       "      <td>ОГОЛИВШУЮ</td>\n",
       "    </tr>\n",
       "    <tr>\n",
       "      <th>3</th>\n",
       "      <td>000120003.jpg</td>\n",
       "      <td>Надорвутся</td>\n",
       "    </tr>\n",
       "    <tr>\n",
       "      <th>4</th>\n",
       "      <td>000120004.jpg</td>\n",
       "      <td>прежних!</td>\n",
       "    </tr>\n",
       "    <tr>\n",
       "      <th>...</th>\n",
       "      <td>...</td>\n",
       "      <td>...</td>\n",
       "    </tr>\n",
       "    <tr>\n",
       "      <th>119995</th>\n",
       "      <td>000239995.jpg</td>\n",
       "      <td>GLENFLORA</td>\n",
       "    </tr>\n",
       "    <tr>\n",
       "      <th>119996</th>\n",
       "      <td>000239996.jpg</td>\n",
       "      <td>отдёргивавший-написанное</td>\n",
       "    </tr>\n",
       "    <tr>\n",
       "      <th>119997</th>\n",
       "      <td>000239997.jpg</td>\n",
       "      <td>полуовальную</td>\n",
       "    </tr>\n",
       "    <tr>\n",
       "      <th>119998</th>\n",
       "      <td>000239998.jpg</td>\n",
       "      <td>Обобществленными НАДВИЖКА Растрескивавшемуся</td>\n",
       "    </tr>\n",
       "    <tr>\n",
       "      <th>119999</th>\n",
       "      <td>000239999.jpg</td>\n",
       "      <td>ПРИСВИСТЫВАЮТ Умудрявшейся</td>\n",
       "    </tr>\n",
       "  </tbody>\n",
       "</table>\n",
       "<p>120000 rows × 2 columns</p>\n",
       "</div>"
      ],
      "text/plain": [
       "            file_name                                          text\n",
       "0       000120000.jpg                                             4\n",
       "1       000120001.jpg                                     ONDOGRAPH\n",
       "2       000120002.jpg                                     ОГОЛИВШУЮ\n",
       "3       000120003.jpg                                    Надорвутся\n",
       "4       000120004.jpg                                      прежних!\n",
       "...               ...                                           ...\n",
       "119995  000239995.jpg                                     GLENFLORA\n",
       "119996  000239996.jpg                      отдёргивавший-написанное\n",
       "119997  000239997.jpg                                  полуовальную\n",
       "119998  000239998.jpg  Обобществленными НАДВИЖКА Растрескивавшемуся\n",
       "119999  000239999.jpg                    ПРИСВИСТЫВАЮТ Умудрявшейся\n",
       "\n",
       "[120000 rows x 2 columns]"
      ]
     },
     "execution_count": 52,
     "metadata": {},
     "output_type": "execute_result"
    }
   ],
   "source": [
    "df_1"
   ]
  },
  {
   "cell_type": "code",
   "execution_count": 53,
   "metadata": {},
   "outputs": [],
   "source": [
    "#copy images from enum_data_rus_0 to enum_data_rus\n",
    "import shutil\n",
    "for image_name in df_0['file_name']:\n",
    "    shutil.copy2(f'example_data_2/output/enum_data_rus_0/images/{image_name}', 'example_data_2/output/enum_data_rus/images')"
   ]
  },
  {
   "cell_type": "code",
   "execution_count": 54,
   "metadata": {},
   "outputs": [],
   "source": [
    "df_3 = pd.read_csv('/Users/datanomica/jup_workplace/synth_text_generation/data/train_recognition/labels.csv')"
   ]
  },
  {
   "cell_type": "code",
   "execution_count": 55,
   "metadata": {},
   "outputs": [
    {
     "data": {
      "text/html": [
       "<div>\n",
       "<style scoped>\n",
       "    .dataframe tbody tr th:only-of-type {\n",
       "        vertical-align: middle;\n",
       "    }\n",
       "\n",
       "    .dataframe tbody tr th {\n",
       "        vertical-align: top;\n",
       "    }\n",
       "\n",
       "    .dataframe thead th {\n",
       "        text-align: right;\n",
       "    }\n",
       "</style>\n",
       "<table border=\"1\" class=\"dataframe\">\n",
       "  <thead>\n",
       "    <tr style=\"text-align: right;\">\n",
       "      <th></th>\n",
       "      <th>file_name</th>\n",
       "      <th>text</th>\n",
       "    </tr>\n",
       "  </thead>\n",
       "  <tbody>\n",
       "    <tr>\n",
       "      <th>0</th>\n",
       "      <td>0.png</td>\n",
       "      <td>bor</td>\n",
       "    </tr>\n",
       "    <tr>\n",
       "      <th>1</th>\n",
       "      <td>1.png</td>\n",
       "      <td>905</td>\n",
       "    </tr>\n",
       "    <tr>\n",
       "      <th>2</th>\n",
       "      <td>2.png</td>\n",
       "      <td>Отвешенную</td>\n",
       "    </tr>\n",
       "    <tr>\n",
       "      <th>3</th>\n",
       "      <td>3.png</td>\n",
       "      <td>MOCK#</td>\n",
       "    </tr>\n",
       "    <tr>\n",
       "      <th>4</th>\n",
       "      <td>4.png</td>\n",
       "      <td>14.</td>\n",
       "    </tr>\n",
       "    <tr>\n",
       "      <th>...</th>\n",
       "      <td>...</td>\n",
       "      <td>...</td>\n",
       "    </tr>\n",
       "    <tr>\n",
       "      <th>4642</th>\n",
       "      <td>4753.png</td>\n",
       "      <td>Hats</td>\n",
       "    </tr>\n",
       "    <tr>\n",
       "      <th>4643</th>\n",
       "      <td>4754.png</td>\n",
       "      <td>семужьему,</td>\n",
       "    </tr>\n",
       "    <tr>\n",
       "      <th>4644</th>\n",
       "      <td>4755.png</td>\n",
       "      <td>radiocopper</td>\n",
       "    </tr>\n",
       "    <tr>\n",
       "      <th>4645</th>\n",
       "      <td>4756.png</td>\n",
       "      <td>animato</td>\n",
       "    </tr>\n",
       "    <tr>\n",
       "      <th>4646</th>\n",
       "      <td>4757.png</td>\n",
       "      <td>xylina</td>\n",
       "    </tr>\n",
       "  </tbody>\n",
       "</table>\n",
       "<p>4647 rows × 2 columns</p>\n",
       "</div>"
      ],
      "text/plain": [
       "     file_name         text\n",
       "0        0.png          bor\n",
       "1        1.png          905\n",
       "2        2.png   Отвешенную\n",
       "3        3.png        MOCK#\n",
       "4        4.png          14.\n",
       "...        ...          ...\n",
       "4642  4753.png         Hats\n",
       "4643  4754.png   семужьему,\n",
       "4644  4755.png  radiocopper\n",
       "4645  4756.png      animato\n",
       "4646  4757.png       xylina\n",
       "\n",
       "[4647 rows x 2 columns]"
      ]
     },
     "execution_count": 55,
     "metadata": {},
     "output_type": "execute_result"
    }
   ],
   "source": [
    "df_3"
   ]
  },
  {
   "cell_type": "code",
   "execution_count": 56,
   "metadata": {},
   "outputs": [],
   "source": [
    "df_2 = pd.concat([df_0, df_1], ignore_index=True, sort=False)"
   ]
  },
  {
   "cell_type": "code",
   "execution_count": 57,
   "metadata": {},
   "outputs": [
    {
     "data": {
      "text/html": [
       "<div>\n",
       "<style scoped>\n",
       "    .dataframe tbody tr th:only-of-type {\n",
       "        vertical-align: middle;\n",
       "    }\n",
       "\n",
       "    .dataframe tbody tr th {\n",
       "        vertical-align: top;\n",
       "    }\n",
       "\n",
       "    .dataframe thead th {\n",
       "        text-align: right;\n",
       "    }\n",
       "</style>\n",
       "<table border=\"1\" class=\"dataframe\">\n",
       "  <thead>\n",
       "    <tr style=\"text-align: right;\">\n",
       "      <th></th>\n",
       "      <th>file_name</th>\n",
       "      <th>text</th>\n",
       "    </tr>\n",
       "  </thead>\n",
       "  <tbody>\n",
       "    <tr>\n",
       "      <th>0</th>\n",
       "      <td>000000000.jpg</td>\n",
       "      <td>\"НАКАЗУЮ\"</td>\n",
       "    </tr>\n",
       "    <tr>\n",
       "      <th>1</th>\n",
       "      <td>000000001.jpg</td>\n",
       "      <td>Herculis</td>\n",
       "    </tr>\n",
       "    <tr>\n",
       "      <th>2</th>\n",
       "      <td>000000002.jpg</td>\n",
       "      <td>(ПЛАТОЧКОВ)</td>\n",
       "    </tr>\n",
       "    <tr>\n",
       "      <th>3</th>\n",
       "      <td>000000003.jpg</td>\n",
       "      <td>CUDDLED</td>\n",
       "    </tr>\n",
       "    <tr>\n",
       "      <th>4</th>\n",
       "      <td>000000004.jpg</td>\n",
       "      <td>ЖИРЯНКАМ</td>\n",
       "    </tr>\n",
       "    <tr>\n",
       "      <th>...</th>\n",
       "      <td>...</td>\n",
       "      <td>...</td>\n",
       "    </tr>\n",
       "    <tr>\n",
       "      <th>239995</th>\n",
       "      <td>000239995.jpg</td>\n",
       "      <td>GLENFLORA</td>\n",
       "    </tr>\n",
       "    <tr>\n",
       "      <th>239996</th>\n",
       "      <td>000239996.jpg</td>\n",
       "      <td>отдёргивавший-написанное</td>\n",
       "    </tr>\n",
       "    <tr>\n",
       "      <th>239997</th>\n",
       "      <td>000239997.jpg</td>\n",
       "      <td>полуовальную</td>\n",
       "    </tr>\n",
       "    <tr>\n",
       "      <th>239998</th>\n",
       "      <td>000239998.jpg</td>\n",
       "      <td>Обобществленными НАДВИЖКА Растрескивавшемуся</td>\n",
       "    </tr>\n",
       "    <tr>\n",
       "      <th>239999</th>\n",
       "      <td>000239999.jpg</td>\n",
       "      <td>ПРИСВИСТЫВАЮТ Умудрявшейся</td>\n",
       "    </tr>\n",
       "  </tbody>\n",
       "</table>\n",
       "<p>240000 rows × 2 columns</p>\n",
       "</div>"
      ],
      "text/plain": [
       "            file_name                                          text\n",
       "0       000000000.jpg                                     \"НАКАЗУЮ\"\n",
       "1       000000001.jpg                                      Herculis\n",
       "2       000000002.jpg                                   (ПЛАТОЧКОВ)\n",
       "3       000000003.jpg                                       CUDDLED\n",
       "4       000000004.jpg                                      ЖИРЯНКАМ\n",
       "...               ...                                           ...\n",
       "239995  000239995.jpg                                     GLENFLORA\n",
       "239996  000239996.jpg                      отдёргивавший-написанное\n",
       "239997  000239997.jpg                                  полуовальную\n",
       "239998  000239998.jpg  Обобществленными НАДВИЖКА Растрескивавшемуся\n",
       "239999  000239999.jpg                    ПРИСВИСТЫВАЮТ Умудрявшейся\n",
       "\n",
       "[240000 rows x 2 columns]"
      ]
     },
     "execution_count": 57,
     "metadata": {},
     "output_type": "execute_result"
    }
   ],
   "source": [
    "df_2"
   ]
  },
  {
   "cell_type": "code",
   "execution_count": 58,
   "metadata": {},
   "outputs": [],
   "source": [
    "df_4 = pd.concat([df_2, df_3], ignore_index=True, sort=False)"
   ]
  },
  {
   "cell_type": "code",
   "execution_count": 59,
   "metadata": {},
   "outputs": [],
   "source": [
    "df_4 = df_4.sample(frac=1).reset_index(drop=True)"
   ]
  },
  {
   "cell_type": "code",
   "execution_count": 60,
   "metadata": {},
   "outputs": [
    {
     "data": {
      "text/html": [
       "<div>\n",
       "<style scoped>\n",
       "    .dataframe tbody tr th:only-of-type {\n",
       "        vertical-align: middle;\n",
       "    }\n",
       "\n",
       "    .dataframe tbody tr th {\n",
       "        vertical-align: top;\n",
       "    }\n",
       "\n",
       "    .dataframe thead th {\n",
       "        text-align: right;\n",
       "    }\n",
       "</style>\n",
       "<table border=\"1\" class=\"dataframe\">\n",
       "  <thead>\n",
       "    <tr style=\"text-align: right;\">\n",
       "      <th></th>\n",
       "      <th>file_name</th>\n",
       "      <th>text</th>\n",
       "    </tr>\n",
       "  </thead>\n",
       "  <tbody>\n",
       "    <tr>\n",
       "      <th>0</th>\n",
       "      <td>000016864.jpg</td>\n",
       "      <td>(CHILMARK</td>\n",
       "    </tr>\n",
       "    <tr>\n",
       "      <th>1</th>\n",
       "      <td>000191604.jpg</td>\n",
       "      <td>ТРАТЯ</td>\n",
       "    </tr>\n",
       "    <tr>\n",
       "      <th>2</th>\n",
       "      <td>000087770.jpg</td>\n",
       "      <td>Приёмопередатчиками</td>\n",
       "    </tr>\n",
       "    <tr>\n",
       "      <th>3</th>\n",
       "      <td>000183165.jpg</td>\n",
       "      <td>Строев</td>\n",
       "    </tr>\n",
       "    <tr>\n",
       "      <th>4</th>\n",
       "      <td>000118210.jpg</td>\n",
       "      <td>SUBAPPROBATORY</td>\n",
       "    </tr>\n",
       "    <tr>\n",
       "      <th>...</th>\n",
       "      <td>...</td>\n",
       "      <td>...</td>\n",
       "    </tr>\n",
       "    <tr>\n",
       "      <th>244642</th>\n",
       "      <td>000062670.jpg</td>\n",
       "      <td>ЖЕЛТОЗЁМОМ</td>\n",
       "    </tr>\n",
       "    <tr>\n",
       "      <th>244643</th>\n",
       "      <td>000176502.jpg</td>\n",
       "      <td>BEFIND</td>\n",
       "    </tr>\n",
       "    <tr>\n",
       "      <th>244644</th>\n",
       "      <td>000221140.jpg</td>\n",
       "      <td>stretchers</td>\n",
       "    </tr>\n",
       "    <tr>\n",
       "      <th>244645</th>\n",
       "      <td>000067195.jpg</td>\n",
       "      <td>UNSUPPLIED</td>\n",
       "    </tr>\n",
       "    <tr>\n",
       "      <th>244646</th>\n",
       "      <td>000083333.jpg</td>\n",
       "      <td>FECUNDATIONS</td>\n",
       "    </tr>\n",
       "  </tbody>\n",
       "</table>\n",
       "<p>244647 rows × 2 columns</p>\n",
       "</div>"
      ],
      "text/plain": [
       "            file_name                 text\n",
       "0       000016864.jpg            (CHILMARK\n",
       "1       000191604.jpg                ТРАТЯ\n",
       "2       000087770.jpg  Приёмопередатчиками\n",
       "3       000183165.jpg               Строев\n",
       "4       000118210.jpg       SUBAPPROBATORY\n",
       "...               ...                  ...\n",
       "244642  000062670.jpg           ЖЕЛТОЗЁМОМ\n",
       "244643  000176502.jpg               BEFIND\n",
       "244644  000221140.jpg           stretchers\n",
       "244645  000067195.jpg           UNSUPPLIED\n",
       "244646  000083333.jpg         FECUNDATIONS\n",
       "\n",
       "[244647 rows x 2 columns]"
      ]
     },
     "execution_count": 60,
     "metadata": {},
     "output_type": "execute_result"
    }
   ],
   "source": [
    "df_4"
   ]
  },
  {
   "cell_type": "code",
   "execution_count": 61,
   "metadata": {},
   "outputs": [
    {
     "data": {
      "text/plain": [
       "244647"
      ]
     },
     "execution_count": 61,
     "metadata": {},
     "output_type": "execute_result"
    }
   ],
   "source": [
    "df_4.shape[0]"
   ]
  },
  {
   "cell_type": "code",
   "execution_count": 73,
   "metadata": {},
   "outputs": [
    {
     "data": {
      "text/plain": [
       "['labels.csv', 'images']"
      ]
     },
     "execution_count": 73,
     "metadata": {},
     "output_type": "execute_result"
    }
   ],
   "source": [
    "os.listdir('/Users/datanomica/jup_workplace/synth_text_generation/data/train_recognition/')"
   ]
  },
  {
   "cell_type": "code",
   "execution_count": 17,
   "metadata": {},
   "outputs": [],
   "source": [
    "df_4.to_csv('/Users/datanomica/jup_workplace/synth_text_generation/data/train_recognition/labels.csv', index=False)"
   ]
  },
  {
   "cell_type": "code",
   "execution_count": 62,
   "metadata": {},
   "outputs": [
    {
     "name": "stderr",
     "output_type": "stream",
     "text": [
      "<ipython-input-62-ea396006b3ea>:4: TqdmDeprecationWarning: This function will be removed in tqdm==5.0.0\n",
      "Please use `tqdm.notebook.tqdm` instead of `tqdm.tqdm_notebook`\n",
      "  for index in tqdm.tqdm_notebook(range(df_4.shape[0])):\n"
     ]
    },
    {
     "data": {
      "application/vnd.jupyter.widget-view+json": {
       "model_id": "719904390a2b4eb9be0dd39eddca9e37",
       "version_major": 2,
       "version_minor": 0
      },
      "text/plain": [
       "  0%|          | 0/244647 [00:00<?, ?it/s]"
      ]
     },
     "metadata": {},
     "output_type": "display_data"
    }
   ],
   "source": [
    "##FOR PADDLE OCR\n",
    "\n",
    "with open(\"/Users/datanomica/jup_workplace/synth_text_generation/data/train_recognition/train.txt\", \"w\", encoding='utf8') as fo:        \n",
    "    for index in tqdm.tqdm_notebook(range(df_4.shape[0])):\n",
    "        file_name = df_4.iloc[index][0]\n",
    "        text = df_4.iloc[index][1]\n",
    "        \n",
    "        fo.write(file_name + '\\t' + text + '\\n')"
   ]
  },
  {
   "cell_type": "code",
   "execution_count": 63,
   "metadata": {},
   "outputs": [],
   "source": [
    "paddle_ocr_excel = pd.read_excel('/Users/datanomica/Desktop/ocr_proj/ROSIM_PROJ/1129_2nd_level_eval.xlsx')"
   ]
  },
  {
   "cell_type": "code",
   "execution_count": 64,
   "metadata": {},
   "outputs": [
    {
     "data": {
      "text/html": [
       "<div>\n",
       "<style scoped>\n",
       "    .dataframe tbody tr th:only-of-type {\n",
       "        vertical-align: middle;\n",
       "    }\n",
       "\n",
       "    .dataframe tbody tr th {\n",
       "        vertical-align: top;\n",
       "    }\n",
       "\n",
       "    .dataframe thead th {\n",
       "        text-align: right;\n",
       "    }\n",
       "</style>\n",
       "<table border=\"1\" class=\"dataframe\">\n",
       "  <thead>\n",
       "    <tr style=\"text-align: right;\">\n",
       "      <th></th>\n",
       "      <th>Столбец1</th>\n",
       "      <th>file_name</th>\n",
       "      <th>text</th>\n",
       "    </tr>\n",
       "  </thead>\n",
       "  <tbody>\n",
       "    <tr>\n",
       "      <th>0</th>\n",
       "      <td>0</td>\n",
       "      <td>(1_0)_2nd_l_crop.png</td>\n",
       "      <td>МИНИСТЕРСТВО</td>\n",
       "    </tr>\n",
       "    <tr>\n",
       "      <th>1</th>\n",
       "      <td>1</td>\n",
       "      <td>(1_3)_2nd_l_crop.png</td>\n",
       "      <td>ФЕДЕРАЦИИ</td>\n",
       "    </tr>\n",
       "    <tr>\n",
       "      <th>2</th>\n",
       "      <td>2</td>\n",
       "      <td>(1_7)_2nd_l_crop.png</td>\n",
       "      <td>УПРАВЛЕНИЮ</td>\n",
       "    </tr>\n",
       "    <tr>\n",
       "      <th>3</th>\n",
       "      <td>3</td>\n",
       "      <td>(1_8)_2nd_l_crop.png</td>\n",
       "      <td>ГОСУДАРСТВЕННЫМ</td>\n",
       "    </tr>\n",
       "    <tr>\n",
       "      <th>4</th>\n",
       "      <td>4</td>\n",
       "      <td>(1_10)_2nd_l_crop.png</td>\n",
       "      <td>(РОСИМУЩЕСТВО)</td>\n",
       "    </tr>\n",
       "    <tr>\n",
       "      <th>...</th>\n",
       "      <td>...</td>\n",
       "      <td>...</td>\n",
       "      <td>...</td>\n",
       "    </tr>\n",
       "    <tr>\n",
       "      <th>1124</th>\n",
       "      <td>1124</td>\n",
       "      <td>(114_4)_2nd_l_crop.png</td>\n",
       "      <td>Номера</td>\n",
       "    </tr>\n",
       "    <tr>\n",
       "      <th>1125</th>\n",
       "      <td>1125</td>\n",
       "      <td>(114_8)_2nd_l_crop.png</td>\n",
       "      <td>п/п</td>\n",
       "    </tr>\n",
       "    <tr>\n",
       "      <th>1126</th>\n",
       "      <td>1126</td>\n",
       "      <td>(114_20)_2nd_l_crop.png</td>\n",
       "      <td>ляров</td>\n",
       "    </tr>\n",
       "    <tr>\n",
       "      <th>1127</th>\n",
       "      <td>1127</td>\n",
       "      <td>(114_22)_2nd_l_crop.png</td>\n",
       "      <td>(прописью)</td>\n",
       "    </tr>\n",
       "    <tr>\n",
       "      <th>1128</th>\n",
       "      <td>1128</td>\n",
       "      <td>(114_23)_2nd_l_crop.png</td>\n",
       "      <td>статья</td>\n",
       "    </tr>\n",
       "  </tbody>\n",
       "</table>\n",
       "<p>1129 rows × 3 columns</p>\n",
       "</div>"
      ],
      "text/plain": [
       "      Столбец1                file_name             text\n",
       "0            0     (1_0)_2nd_l_crop.png     МИНИСТЕРСТВО\n",
       "1            1     (1_3)_2nd_l_crop.png        ФЕДЕРАЦИИ\n",
       "2            2     (1_7)_2nd_l_crop.png       УПРАВЛЕНИЮ\n",
       "3            3     (1_8)_2nd_l_crop.png  ГОСУДАРСТВЕННЫМ\n",
       "4            4    (1_10)_2nd_l_crop.png   (РОСИМУЩЕСТВО)\n",
       "...        ...                      ...              ...\n",
       "1124      1124   (114_4)_2nd_l_crop.png           Номера\n",
       "1125      1125   (114_8)_2nd_l_crop.png              п/п\n",
       "1126      1126  (114_20)_2nd_l_crop.png            ляров\n",
       "1127      1127  (114_22)_2nd_l_crop.png       (прописью)\n",
       "1128      1128  (114_23)_2nd_l_crop.png           статья\n",
       "\n",
       "[1129 rows x 3 columns]"
      ]
     },
     "execution_count": 64,
     "metadata": {},
     "output_type": "execute_result"
    }
   ],
   "source": [
    "paddle_ocr_excel"
   ]
  },
  {
   "cell_type": "code",
   "execution_count": 65,
   "metadata": {},
   "outputs": [
    {
     "data": {
      "text/plain": [
       "'МИНИСТЕРСТВО'"
      ]
     },
     "execution_count": 65,
     "metadata": {},
     "output_type": "execute_result"
    }
   ],
   "source": [
    "paddle_ocr_excel.iloc[0][2]"
   ]
  },
  {
   "cell_type": "code",
   "execution_count": 66,
   "metadata": {},
   "outputs": [
    {
     "name": "stderr",
     "output_type": "stream",
     "text": [
      "<ipython-input-66-6c7bf26d5171>:4: TqdmDeprecationWarning: This function will be removed in tqdm==5.0.0\n",
      "Please use `tqdm.notebook.tqdm` instead of `tqdm.tqdm_notebook`\n",
      "  for index in tqdm.tqdm_notebook(range(paddle_ocr_excel.shape[0])):\n"
     ]
    },
    {
     "data": {
      "application/vnd.jupyter.widget-view+json": {
       "model_id": "dde39971e500425690660d2a3e866514",
       "version_major": 2,
       "version_minor": 0
      },
      "text/plain": [
       "  0%|          | 0/1129 [00:00<?, ?it/s]"
      ]
     },
     "metadata": {},
     "output_type": "display_data"
    }
   ],
   "source": [
    "##FOR PADDLE OCR\n",
    "\n",
    "with open(\"/Users/datanomica/jup_workplace/synth_text_generation/data/train_recognition/val.txt\", \"w\", encoding='utf8') as fo:        \n",
    "    for index in tqdm.tqdm_notebook(range(paddle_ocr_excel.shape[0])):\n",
    "        file_name = paddle_ocr_excel.iloc[index][1]\n",
    "        text = paddle_ocr_excel.iloc[index][2]\n",
    "        \n",
    "        fo.write(file_name + '\\t' + text + '\\n')"
   ]
  },
  {
   "cell_type": "code",
   "execution_count": 67,
   "metadata": {},
   "outputs": [],
   "source": [
    "import shutil\n",
    "##FOR PADDLE OCR\n",
    "for image_name in df_2['file_name']:\n",
    "    shutil.copy2(f'example_data_2/output/enum_data_rus/images/{image_name}', '/Users/datanomica/jup_workplace/synth_text_generation/data/train_recognition/images')"
   ]
  },
  {
   "cell_type": "code",
   "execution_count": null,
   "metadata": {},
   "outputs": [],
   "source": []
  },
  {
   "cell_type": "code",
   "execution_count": 18,
   "metadata": {},
   "outputs": [],
   "source": [
    "#proportions - 30k generated simple text, 39k generated syth text"
   ]
  },
  {
   "cell_type": "code",
   "execution_count": null,
   "metadata": {},
   "outputs": [],
   "source": []
  },
  {
   "cell_type": "code",
   "execution_count": 19,
   "metadata": {},
   "outputs": [
    {
     "data": {
      "text/plain": [
       "'/Users/datanomica/jup_workplace/text_renderer'"
      ]
     },
     "execution_count": 19,
     "metadata": {},
     "output_type": "execute_result"
    }
   ],
   "source": [
    "os.getcwd()"
   ]
  },
  {
   "cell_type": "code",
   "execution_count": 26,
   "metadata": {},
   "outputs": [],
   "source": [
    "import shutil"
   ]
  },
  {
   "cell_type": "code",
   "execution_count": null,
   "metadata": {},
   "outputs": [],
   "source": [
    "for image_name in df_2['file_name']:\n",
    "    shutil.copy2(f'example_data_2/output/enum_data_rus/images/{image_name}', '/Users/datanomica/jup_workplace/synth_text_generation/data/train_recognition/images')"
   ]
  },
  {
   "cell_type": "code",
   "execution_count": null,
   "metadata": {},
   "outputs": [],
   "source": []
  },
  {
   "cell_type": "code",
   "execution_count": null,
   "metadata": {},
   "outputs": [],
   "source": []
  }
 ],
 "metadata": {
  "colab": {
   "authorship_tag": "ABX9TyNmrBBwX4GIVjYQqTwGtygh",
   "collapsed_sections": [],
   "name": "dataset_generation.ipynb",
   "provenance": []
  },
  "kernelspec": {
   "display_name": "Python 3",
   "language": "python",
   "name": "python3"
  },
  "language_info": {
   "codemirror_mode": {
    "name": "ipython",
    "version": 3
   },
   "file_extension": ".py",
   "mimetype": "text/x-python",
   "name": "python",
   "nbconvert_exporter": "python",
   "pygments_lexer": "ipython3",
   "version": "3.8.8"
  }
 },
 "nbformat": 4,
 "nbformat_minor": 1
}
